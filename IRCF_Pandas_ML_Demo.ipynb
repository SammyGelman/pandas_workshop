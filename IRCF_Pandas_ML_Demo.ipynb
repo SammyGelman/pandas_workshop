{
 "cells": [
  {
   "cell_type": "markdown",
   "id": "220a8baa-9a79-4820-8acc-49b038d2e74f",
   "metadata": {},
   "source": [
    "## Welcome to our Jupyter Notebook"
   ]
  },
  {
   "cell_type": "markdown",
   "id": "b6c8d9eb-8e71-41e7-a201-008937fda9d5",
   "metadata": {},
   "source": [
    "### Jupyter Cells\n",
    "\n",
    "**Markdown** and **Code** "
   ]
  },
  {
   "cell_type": "code",
   "execution_count": 1,
   "id": "23b638b2-a2b8-4464-a952-8c80f76f0b30",
   "metadata": {},
   "outputs": [],
   "source": [
    "# Imports \n",
    "import pandas as pd\n",
    "import numpy as np\n",
    "import seaborn as sns\n",
    "import matplotlib.pyplot as plt"
   ]
  },
  {
   "cell_type": "markdown",
   "id": "27176f9b-4f49-4bd1-8c7d-1fcf6db60a1e",
   "metadata": {},
   "source": [
    "#### Imports\n",
    "The import command is running the pandas source code, around 200,000 lines, and keeping that all in memory! Computers are amazing!"
   ]
  },
  {
   "cell_type": "markdown",
   "id": "071ed2fc-0e97-4fbc-910f-862a5b8afdb5",
   "metadata": {},
   "source": [
    "#### A land before pandas\n",
    "\n",
    "Before we jump into Pandas let's take a look at what people did before it. \n",
    "\n",
    "Organizing data using dictionaries."
   ]
  },
  {
   "cell_type": "code",
   "execution_count": 6,
   "id": "43c7b38a-84c7-43fd-82e3-4d47c7f766bf",
   "metadata": {},
   "outputs": [],
   "source": [
    "# Here is an example dictionary - run the cell and load it into memory.\n",
    "\n",
    "fruit_dictionary = {\n",
    "    \"name\" : ['lemon', 'banana', 'apple' , 'strawberry'],\n",
    "    \"color\" : [['yellow'], ['yellow'], ['red', 'green'], ['red']],\n",
    "    \"edible_seeds\" : ['no', 'yes', 'no', 'yes']\n",
    "}"
   ]
  },
  {
   "cell_type": "markdown",
   "id": "4ea7e248-1549-4e97-9b86-a9a159bb71c6",
   "metadata": {},
   "source": [
    "Dictionaries are broken up into key-value pairs.\n",
    "    \n",
    "    dict_name = { key : value }\n",
    "\n",
    "We can use the built in key() and value() methods to see the contents of the dictionary.\n"
   ]
  },
  {
   "cell_type": "code",
   "execution_count": 7,
   "id": "689c37e1-c7af-48b2-b0ba-fa98af01eb92",
   "metadata": {},
   "outputs": [
    {
     "name": "stdout",
     "output_type": "stream",
     "text": [
      "Dictionary keys:  dict_keys(['name', 'color', 'edible_seeds']) \n",
      "\n",
      "\n",
      "Dictionary values:  dict_values([['lemon', 'banana', 'apple', 'strawberry'], [['yellow'], ['yellow'], ['red', 'green'], ['red']], ['no', 'yes', 'no', 'yes']]) \n",
      "\n",
      "\n"
     ]
    }
   ],
   "source": [
    "# print the keys and values for fruit_dictionary\n",
    "print(\"Dictionary keys: \", fruit_dictionary.keys(), \"\\n\\n\")\n",
    "print(\"Dictionary values: \", fruit_dictionary.values(), \"\\n\\n\")\n"
   ]
  },
  {
   "cell_type": "markdown",
   "id": "5c138359-6dd4-487f-a060-73da291882ae",
   "metadata": {},
   "source": [
    "### Converting to a DataFrame\n",
    "Use the pd.DataFrame() function to convert the dictionary into a DataFrame.\n",
    "\n",
    "    pd.DataFrame(dict_name)\n"
   ]
  },
  {
   "cell_type": "code",
   "execution_count": 8,
   "id": "8b85823b-26df-4273-825b-cb3c2971d408",
   "metadata": {},
   "outputs": [
    {
     "data": {
      "text/html": [
       "<div>\n",
       "<style scoped>\n",
       "    .dataframe tbody tr th:only-of-type {\n",
       "        vertical-align: middle;\n",
       "    }\n",
       "\n",
       "    .dataframe tbody tr th {\n",
       "        vertical-align: top;\n",
       "    }\n",
       "\n",
       "    .dataframe thead th {\n",
       "        text-align: right;\n",
       "    }\n",
       "</style>\n",
       "<table border=\"1\" class=\"dataframe\">\n",
       "  <thead>\n",
       "    <tr style=\"text-align: right;\">\n",
       "      <th></th>\n",
       "      <th>name</th>\n",
       "      <th>color</th>\n",
       "      <th>edible_seeds</th>\n",
       "    </tr>\n",
       "  </thead>\n",
       "  <tbody>\n",
       "    <tr>\n",
       "      <th>0</th>\n",
       "      <td>lemon</td>\n",
       "      <td>[yellow]</td>\n",
       "      <td>no</td>\n",
       "    </tr>\n",
       "    <tr>\n",
       "      <th>1</th>\n",
       "      <td>banana</td>\n",
       "      <td>[yellow]</td>\n",
       "      <td>yes</td>\n",
       "    </tr>\n",
       "    <tr>\n",
       "      <th>2</th>\n",
       "      <td>apple</td>\n",
       "      <td>[red, green]</td>\n",
       "      <td>no</td>\n",
       "    </tr>\n",
       "    <tr>\n",
       "      <th>3</th>\n",
       "      <td>strawberry</td>\n",
       "      <td>[red]</td>\n",
       "      <td>yes</td>\n",
       "    </tr>\n",
       "  </tbody>\n",
       "</table>\n",
       "</div>"
      ],
      "text/plain": [
       "         name         color edible_seeds\n",
       "0       lemon      [yellow]           no\n",
       "1      banana      [yellow]          yes\n",
       "2       apple  [red, green]           no\n",
       "3  strawberry         [red]          yes"
      ]
     },
     "execution_count": 8,
     "metadata": {},
     "output_type": "execute_result"
    }
   ],
   "source": [
    "# Turn the fruit_dictionary object into a DataFrame. \n",
    "pd.DataFrame(fruit_dictionary)"
   ]
  },
  {
   "cell_type": "code",
   "execution_count": 9,
   "id": "fc0e45c6-8be9-44e1-8b84-f88f2effeb25",
   "metadata": {},
   "outputs": [
    {
     "data": {
      "text/html": [
       "<div>\n",
       "<style scoped>\n",
       "    .dataframe tbody tr th:only-of-type {\n",
       "        vertical-align: middle;\n",
       "    }\n",
       "\n",
       "    .dataframe tbody tr th {\n",
       "        vertical-align: top;\n",
       "    }\n",
       "\n",
       "    .dataframe thead th {\n",
       "        text-align: right;\n",
       "    }\n",
       "</style>\n",
       "<table border=\"1\" class=\"dataframe\">\n",
       "  <thead>\n",
       "    <tr style=\"text-align: right;\">\n",
       "      <th></th>\n",
       "      <th>color</th>\n",
       "      <th>edible_seeds</th>\n",
       "    </tr>\n",
       "    <tr>\n",
       "      <th>name</th>\n",
       "      <th></th>\n",
       "      <th></th>\n",
       "    </tr>\n",
       "  </thead>\n",
       "  <tbody>\n",
       "    <tr>\n",
       "      <th>lemon</th>\n",
       "      <td>[yellow]</td>\n",
       "      <td>no</td>\n",
       "    </tr>\n",
       "    <tr>\n",
       "      <th>banana</th>\n",
       "      <td>[yellow]</td>\n",
       "      <td>yes</td>\n",
       "    </tr>\n",
       "    <tr>\n",
       "      <th>apple</th>\n",
       "      <td>[red, green]</td>\n",
       "      <td>no</td>\n",
       "    </tr>\n",
       "    <tr>\n",
       "      <th>strawberry</th>\n",
       "      <td>[red]</td>\n",
       "      <td>yes</td>\n",
       "    </tr>\n",
       "  </tbody>\n",
       "</table>\n",
       "</div>"
      ],
      "text/plain": [
       "                   color edible_seeds\n",
       "name                                 \n",
       "lemon           [yellow]           no\n",
       "banana          [yellow]          yes\n",
       "apple       [red, green]           no\n",
       "strawberry         [red]          yes"
      ]
     },
     "execution_count": 9,
     "metadata": {},
     "output_type": "execute_result"
    }
   ],
   "source": [
    "# Turn the fruit_dictionary object into a DataFrame. \n",
    "pd.DataFrame(fruit_dictionary).set_index('name')"
   ]
  },
  {
   "cell_type": "markdown",
   "id": "cf3d240a-8a7e-4372-8ce4-81e2b77639e9",
   "metadata": {},
   "source": [
    "### Moving on to more interesting data\n",
    "**Kaggle** is a machine learning and data science community that share tons of great resources and hosts exciting competitions. \n",
    "\n",
    "We downloaded a fun dataset from them.\n",
    "\n",
    "I hope you like movies!"
   ]
  },
  {
   "cell_type": "markdown",
   "id": "ef68748a-d029-4708-961e-8a28745632d2",
   "metadata": {},
   "source": [
    "### Loading in data\n",
    "\n",
    "Popular file type: comma-seperated value (**.csv**) files.\n",
    "\n",
    "Use the pandas read_csv function to load the .csv file as a dataframe.\n",
    "\n",
    "    df = pd.read_csv('foo.csv')\n"
   ]
  },
  {
   "cell_type": "code",
   "execution_count": 10,
   "id": "ef48c24f-b1d0-4d3f-8b02-0ebbd3a02c88",
   "metadata": {},
   "outputs": [],
   "source": [
    "# load the file \"imdb_movies.csv\" to a variable named df.\n",
    "\n",
    "df = pd.read_csv('imdb_movies.csv')"
   ]
  },
  {
   "cell_type": "markdown",
   "id": "9d510b72-5ee9-4153-8921-4c0f032daad0",
   "metadata": {},
   "source": [
    "#### Just a peak\n",
    "You can look at the first n rows of a dataframe by using the .head() method. \n",
    "\n",
    "    df.head(n)\n",
    "\n",
    "Where n is an integer value, the default is 5\n",
    "\n",
    "Remember Pandas, true to Python, is index base 0. So if n = 5, then you will see indices [0, 1, 2, 3, 4]. \n",
    "\n",
    "Head is inclusive, while slicing, as we will see, is exclusive. "
   ]
  },
  {
   "cell_type": "code",
   "execution_count": 11,
   "id": "6e96e8ed-269d-4943-9ac8-84801d2f9ff9",
   "metadata": {},
   "outputs": [
    {
     "data": {
      "text/html": [
       "<div>\n",
       "<style scoped>\n",
       "    .dataframe tbody tr th:only-of-type {\n",
       "        vertical-align: middle;\n",
       "    }\n",
       "\n",
       "    .dataframe tbody tr th {\n",
       "        vertical-align: top;\n",
       "    }\n",
       "\n",
       "    .dataframe thead th {\n",
       "        text-align: right;\n",
       "    }\n",
       "</style>\n",
       "<table border=\"1\" class=\"dataframe\">\n",
       "  <thead>\n",
       "    <tr style=\"text-align: right;\">\n",
       "      <th></th>\n",
       "      <th>names</th>\n",
       "      <th>date_x</th>\n",
       "      <th>score</th>\n",
       "      <th>genre</th>\n",
       "      <th>overview</th>\n",
       "      <th>crew</th>\n",
       "      <th>orig_title</th>\n",
       "      <th>status</th>\n",
       "      <th>orig_lang</th>\n",
       "      <th>budget_x</th>\n",
       "      <th>revenue</th>\n",
       "      <th>country</th>\n",
       "    </tr>\n",
       "  </thead>\n",
       "  <tbody>\n",
       "    <tr>\n",
       "      <th>0</th>\n",
       "      <td>Creed III</td>\n",
       "      <td>03/02/2023</td>\n",
       "      <td>73.0</td>\n",
       "      <td>Drama, Action</td>\n",
       "      <td>After dominating the boxing world, Adonis Cree...</td>\n",
       "      <td>Michael B. Jordan, Adonis Creed, Tessa Thompso...</td>\n",
       "      <td>Creed III</td>\n",
       "      <td>Released</td>\n",
       "      <td>English</td>\n",
       "      <td>75000000.0</td>\n",
       "      <td>2.716167e+08</td>\n",
       "      <td>AU</td>\n",
       "    </tr>\n",
       "    <tr>\n",
       "      <th>1</th>\n",
       "      <td>Avatar: The Way of Water</td>\n",
       "      <td>12/15/2022</td>\n",
       "      <td>78.0</td>\n",
       "      <td>Science Fiction, Adventure, Action</td>\n",
       "      <td>Set more than a decade after the events of the...</td>\n",
       "      <td>Sam Worthington, Jake Sully, Zoe Saldaña, Neyt...</td>\n",
       "      <td>Avatar: The Way of Water</td>\n",
       "      <td>Released</td>\n",
       "      <td>English</td>\n",
       "      <td>460000000.0</td>\n",
       "      <td>2.316795e+09</td>\n",
       "      <td>AU</td>\n",
       "    </tr>\n",
       "    <tr>\n",
       "      <th>2</th>\n",
       "      <td>The Super Mario Bros. Movie</td>\n",
       "      <td>04/05/2023</td>\n",
       "      <td>76.0</td>\n",
       "      <td>Animation, Adventure, Family, Fantasy, Comedy</td>\n",
       "      <td>While working underground to fix a water main,...</td>\n",
       "      <td>Chris Pratt, Mario (voice), Anya Taylor-Joy, P...</td>\n",
       "      <td>The Super Mario Bros. Movie</td>\n",
       "      <td>Released</td>\n",
       "      <td>English</td>\n",
       "      <td>100000000.0</td>\n",
       "      <td>7.244590e+08</td>\n",
       "      <td>AU</td>\n",
       "    </tr>\n",
       "    <tr>\n",
       "      <th>3</th>\n",
       "      <td>Mummies</td>\n",
       "      <td>01/05/2023</td>\n",
       "      <td>70.0</td>\n",
       "      <td>Animation, Comedy, Family, Adventure, Fantasy</td>\n",
       "      <td>Through a series of unfortunate events, three ...</td>\n",
       "      <td>Óscar Barberán, Thut (voice), Ana Esther Albor...</td>\n",
       "      <td>Momias</td>\n",
       "      <td>Released</td>\n",
       "      <td>Spanish, Castilian</td>\n",
       "      <td>12300000.0</td>\n",
       "      <td>3.420000e+07</td>\n",
       "      <td>AU</td>\n",
       "    </tr>\n",
       "    <tr>\n",
       "      <th>4</th>\n",
       "      <td>Supercell</td>\n",
       "      <td>03/17/2023</td>\n",
       "      <td>61.0</td>\n",
       "      <td>Action</td>\n",
       "      <td>Good-hearted teenager William always lived in ...</td>\n",
       "      <td>Skeet Ulrich, Roy Cameron, Anne Heche, Dr Quin...</td>\n",
       "      <td>Supercell</td>\n",
       "      <td>Released</td>\n",
       "      <td>English</td>\n",
       "      <td>77000000.0</td>\n",
       "      <td>3.409420e+08</td>\n",
       "      <td>US</td>\n",
       "    </tr>\n",
       "  </tbody>\n",
       "</table>\n",
       "</div>"
      ],
      "text/plain": [
       "                         names       date_x  score  \\\n",
       "0                    Creed III  03/02/2023    73.0   \n",
       "1     Avatar: The Way of Water  12/15/2022    78.0   \n",
       "2  The Super Mario Bros. Movie  04/05/2023    76.0   \n",
       "3                      Mummies  01/05/2023    70.0   \n",
       "4                    Supercell  03/17/2023    61.0   \n",
       "\n",
       "                                           genre  \\\n",
       "0                                  Drama, Action   \n",
       "1             Science Fiction, Adventure, Action   \n",
       "2  Animation, Adventure, Family, Fantasy, Comedy   \n",
       "3  Animation, Comedy, Family, Adventure, Fantasy   \n",
       "4                                         Action   \n",
       "\n",
       "                                            overview  \\\n",
       "0  After dominating the boxing world, Adonis Cree...   \n",
       "1  Set more than a decade after the events of the...   \n",
       "2  While working underground to fix a water main,...   \n",
       "3  Through a series of unfortunate events, three ...   \n",
       "4  Good-hearted teenager William always lived in ...   \n",
       "\n",
       "                                                crew  \\\n",
       "0  Michael B. Jordan, Adonis Creed, Tessa Thompso...   \n",
       "1  Sam Worthington, Jake Sully, Zoe Saldaña, Neyt...   \n",
       "2  Chris Pratt, Mario (voice), Anya Taylor-Joy, P...   \n",
       "3  Óscar Barberán, Thut (voice), Ana Esther Albor...   \n",
       "4  Skeet Ulrich, Roy Cameron, Anne Heche, Dr Quin...   \n",
       "\n",
       "                    orig_title     status            orig_lang     budget_x  \\\n",
       "0                    Creed III   Released              English   75000000.0   \n",
       "1     Avatar: The Way of Water   Released              English  460000000.0   \n",
       "2  The Super Mario Bros. Movie   Released              English  100000000.0   \n",
       "3                       Momias   Released   Spanish, Castilian   12300000.0   \n",
       "4                    Supercell   Released              English   77000000.0   \n",
       "\n",
       "        revenue country  \n",
       "0  2.716167e+08      AU  \n",
       "1  2.316795e+09      AU  \n",
       "2  7.244590e+08      AU  \n",
       "3  3.420000e+07      AU  \n",
       "4  3.409420e+08      US  "
      ]
     },
     "execution_count": 11,
     "metadata": {},
     "output_type": "execute_result"
    }
   ],
   "source": [
    "# Look at the top ten columns and see if how many of the movies you recognize.\n",
    "\n",
    "df.head()"
   ]
  },
  {
   "cell_type": "markdown",
   "id": "3070246f-2629-4f71-b860-bf851d901060",
   "metadata": {},
   "source": [
    "### Columns and Index\n",
    "The DataFrame equivilent to **keys** and **values** are **columns** and **index**.\n",
    "\n",
    "The **index** of the dataframe represents the **rows**. \n",
    "\n",
    "For some dataframes the **index** is a label and for others it is **just a number**, like in our case. \n",
    "\n",
    "Print the columns and indices of the DataFrame in the following way:\n",
    "\n",
    "    df.columns\n",
    "    df.index"
   ]
  },
  {
   "cell_type": "code",
   "execution_count": 14,
   "id": "98da84da-c044-42f1-bb14-401ea65933b1",
   "metadata": {},
   "outputs": [
    {
     "name": "stdout",
     "output_type": "stream",
     "text": [
      "\n",
      " Index(['names', 'date_x', 'score', 'genre', 'overview', 'crew', 'orig_title',\n",
      "       'status', 'orig_lang', 'budget_x', 'revenue', 'country'],\n",
      "      dtype='object') \n",
      "\n",
      "\n",
      "RangeIndex(start=0, stop=10178, step=1) \n",
      "\n"
     ]
    }
   ],
   "source": [
    "# Print out the columns and index of the DataFrame below.\n",
    "\n",
    "print(\"\\n\", df.columns, \"\\n\\n\")\n",
    "print(df.index,\"\\n\")"
   ]
  },
  {
   "cell_type": "markdown",
   "id": "d0005c20-197f-4d8d-be1b-87c48f3840f8",
   "metadata": {},
   "source": [
    "The output of the columns and index methods **behave like lists**.\n",
    "\n",
    "We can use the **len( )** function to see the number or columns and rows we have."
   ]
  },
  {
   "cell_type": "code",
   "execution_count": 15,
   "id": "477106b9-a7d1-466a-8517-4f44559403d8",
   "metadata": {},
   "outputs": [
    {
     "name": "stdout",
     "output_type": "stream",
     "text": [
      "Number of columns:  12\n",
      "Number of rows:  10178\n"
     ]
    }
   ],
   "source": [
    "# Print the length of the columns and rows using len()\n",
    "\n",
    "# your code here\n",
    "print(\"Number of columns: \", len(df.columns))\n",
    "print(\"Number of rows: \", len(df.index))"
   ]
  },
  {
   "cell_type": "markdown",
   "id": "8bc7a014-e5e0-4979-b27d-cf2cc44ba47c",
   "metadata": {},
   "source": [
    "#### Exploring Columns\n",
    "\n",
    "    df[\"column_name\"]\n"
   ]
  },
  {
   "cell_type": "code",
   "execution_count": 16,
   "id": "ead0558e-f2bd-4027-8308-4361c08a447e",
   "metadata": {},
   "outputs": [
    {
     "data": {
      "text/plain": [
       "0        03/02/2023 \n",
       "1        12/15/2022 \n",
       "2        04/05/2023 \n",
       "3        01/05/2023 \n",
       "4        03/17/2023 \n",
       "            ...     \n",
       "10173    12/28/2016 \n",
       "10174    08/24/1990 \n",
       "10175    12/21/1990 \n",
       "10176    07/11/1995 \n",
       "10177    07/20/2020 \n",
       "Name: date_x, Length: 10178, dtype: object"
      ]
     },
     "execution_count": 16,
     "metadata": {},
     "output_type": "execute_result"
    }
   ],
   "source": [
    "# Isolate columns using the column-wise indexing. \n",
    "\n",
    "df[\"date_x\"]"
   ]
  },
  {
   "cell_type": "markdown",
   "id": "a6204124-a4df-4da2-be24-90f30e8bd64f",
   "metadata": {},
   "source": [
    "#### Exploring Indices \n",
    "\n",
    "loc and iloc. \n",
    "\n",
    "The difference: **loc** is **label-based** and **iloc** is **integer-based**.\n",
    "\n",
    "Show the content at a specific index:\n",
    "\n",
    "    df.loc[\"index_name\", \"column_name\"]\n",
    "    df.iloc[index_num, \"column_number\"]\n",
    "\n",
    "Note: When indexes are integer based, like in our case, use an integer index even while using loc. \n",
    "\n",
    "Also Note: If a column name or number is excluded, all columns will be displayed, for ex: \n",
    "    \n",
    "    df.loc[\"index_name\"]\n",
    "    df.loc[\"index_num\"]\n"
   ]
  },
  {
   "cell_type": "code",
   "execution_count": 17,
   "id": "b2111734-8236-4e9e-8205-fc125bb3ca63",
   "metadata": {},
   "outputs": [
    {
     "data": {
      "text/plain": [
       "100000.0"
      ]
     },
     "execution_count": 17,
     "metadata": {},
     "output_type": "execute_result"
    }
   ],
   "source": [
    "# Print out the budget_x for the 10th entry of the df \n",
    "df.loc[10, \"budget_x\"]"
   ]
  },
  {
   "cell_type": "markdown",
   "id": "96f9a471-ec9f-4bf6-9326-b4d3d575e3f5",
   "metadata": {},
   "source": [
    "#### Slicing \n",
    "What if we want to inspect **multiple rows** or **multiple columns**?\n"
   ]
  },
  {
   "cell_type": "markdown",
   "id": "ab6d7ae0-89be-4fa9-b65c-0e67bf02b13e",
   "metadata": {},
   "source": [
    "##### tips for slicing syntax:\n",
    "\n",
    "Using **negative** numbers will take indices **starting from the end**.\n",
    "    \n",
    "        df.iloc[-1], will show the last row.\n",
    "\n",
    "Unfortunately, negative indexing doens't work for loc.\n",
    "    \n",
    "A lone colon, \" : \", before or after an integer index will take all availbale indices before or after respectively:\n",
    "        \n",
    "        df.iloc[:5] will show indices 0 - 5\n",
    "        df.iloc[5:] will show indcies 5 until the end. "
   ]
  },
  {
   "cell_type": "code",
   "execution_count": 19,
   "id": "f4887d68-16eb-4899-b939-a59c9b0199c1",
   "metadata": {},
   "outputs": [
    {
     "name": "stdout",
     "output_type": "stream",
     "text": [
      "0                            Creed III\n",
      "1             Avatar: The Way of Water\n",
      "2          The Super Mario Bros. Movie\n",
      "3                              Mummies\n",
      "4                            Supercell\n",
      "5                         Cocaine Bear\n",
      "6                 John Wick: Chapter 4\n",
      "7         Puss in Boots: The Last Wish\n",
      "8                      Attack on Titan\n",
      "9                             The Park\n",
      "10    Winnie the Pooh: Blood and Honey\n",
      "Name: names, dtype: object\n",
      "10168                                       Marshall\n",
      "10169                                     Nighthawks\n",
      "10170                                  The Love Guru\n",
      "10171    The Seven Deadly Sins: Prisoners of the Sky\n",
      "10172                              The Lady Vanishes\n",
      "10173                             20th Century Women\n",
      "10174        Delta Force 2: The Colombian Connection\n",
      "10175                               The Russia House\n",
      "10176               Darkman II: The Return of Durant\n",
      "10177             The Swan Princess: A Royal Wedding\n",
      "Name: names, dtype: object\n"
     ]
    }
   ],
   "source": [
    "# Print out the names first 10 and the last 10 rows\n",
    "\n",
    "print(df.loc[:10, \"names\"])\n",
    "print(df.iloc[-10:, 0])\n"
   ]
  },
  {
   "cell_type": "markdown",
   "id": "a5f04da3-3022-4da0-aa6f-7df61f95a73e",
   "metadata": {},
   "source": [
    "#### List of indices \n",
    "You can also use lists to specifiy which indices we want to see:\n",
    "\n",
    "    rows = [4, 7, 9]\n",
    "    cols = [3, 6]\n",
    "\n",
    "    df.iloc[rows, cols]\n",
    "\n",
    "This will output the defined rows and columns. \n",
    "\n",
    "Note that they dont need to be in order"
   ]
  },
  {
   "cell_type": "code",
   "execution_count": 20,
   "id": "8d9b946b-9b5a-4be2-9252-a19d86c4d316",
   "metadata": {},
   "outputs": [
    {
     "name": "stdout",
     "output_type": "stream",
     "text": [
      "                                              genre  \\\n",
      "4                                            Action   \n",
      "7     Animation, Family, Fantasy, Adventure, Comedy   \n",
      "9  Action, Drama, Horror, Science Fiction, Thriller   \n",
      "\n",
      "                     orig_title  \n",
      "4                     Supercell  \n",
      "7  Puss in Boots: The Last Wish  \n",
      "9                      The Park  \n",
      "                                              genre  \\\n",
      "4                                            Action   \n",
      "7     Animation, Family, Fantasy, Adventure, Comedy   \n",
      "9  Action, Drama, Horror, Science Fiction, Thriller   \n",
      "\n",
      "                     orig_title  \n",
      "4                     Supercell  \n",
      "7  Puss in Boots: The Last Wish  \n",
      "9                      The Park  \n"
     ]
    }
   ],
   "source": [
    "# Output the collection of rows and columns above using loc instead of iloc!\n",
    "\n",
    "rows = [4, 7, 9]\n",
    "cols = [3, 6]\n",
    "\n",
    "print(df.iloc[rows, cols])\n",
    "\n",
    "print(df.loc[df.index[rows], df.columns[cols]])"
   ]
  },
  {
   "cell_type": "markdown",
   "id": "899ea29e-5ff0-484e-a9ad-953b121c4994",
   "metadata": {},
   "source": [
    "####  Data types (dtypes) in pandas\n",
    "Pandas handles different types of data differently, be them strings, integers, floats, etc.\n",
    "\n",
    "This happens on a column to column basis. We can check the identity of each column by checking its dtypes attribute:\n",
    "    \n",
    "    df.dtypes\n",
    "\n",
    "This will print out the column name and its corresponding datatype. "
   ]
  },
  {
   "cell_type": "code",
   "execution_count": 21,
   "id": "cfe46155-5ee8-459f-8792-7e95945032f4",
   "metadata": {},
   "outputs": [
    {
     "data": {
      "text/plain": [
       "names          object\n",
       "date_x         object\n",
       "score         float64\n",
       "genre          object\n",
       "overview       object\n",
       "crew           object\n",
       "orig_title     object\n",
       "status         object\n",
       "orig_lang      object\n",
       "budget_x      float64\n",
       "revenue       float64\n",
       "country        object\n",
       "dtype: object"
      ]
     },
     "execution_count": 21,
     "metadata": {},
     "output_type": "execute_result"
    }
   ],
   "source": [
    "df.dtypes"
   ]
  },
  {
   "cell_type": "markdown",
   "id": "be6257a5-f8a2-426d-8148-fcf2ccf0d593",
   "metadata": {},
   "source": [
    "#### Mathematical Operations\n",
    "This is where things get fun! \n",
    "\n",
    "Here are a couple functions which will help you answer the questions below:\n",
    "\n",
    "    sum(): Compute the sum of values.\n",
    "    mean(): Compute the mean of values.\n",
    "    median(): Compute the median of values.\n",
    "    std(): Compute the standard deviation.\n",
    "    var(): Compute the variance.\n",
    "    min(): Find the minimum value.\n",
    "    max(): Find the maximum value.\n",
    "    count(): Count the number of non-NA/null observations.\n",
    "\n",
    "The methods work in the following way:\n",
    "\n",
    "    mean_col = df[\"column_name\"].mean()\n",
    "\n",
    "Remember that putting a column name in square brackets gives all available indices for the columns.\n",
    "\n",
    "Could you print the same values using loc?"
   ]
  },
  {
   "cell_type": "code",
   "execution_count": 22,
   "id": "715d8655-99aa-4c5a-8094-37324f48bc19",
   "metadata": {},
   "outputs": [
    {
     "name": "stdout",
     "output_type": "stream",
     "text": [
      "660.3728523517999\n",
      "2576.4598708166\n",
      "3.901522998168381\n"
     ]
    }
   ],
   "source": [
    "# What is the sum total budget and revenues for the film industry as per our dataset in billion dollars?\n",
    "billion = 1000000000\n",
    "\n",
    "# your code here\n",
    "total_budget = df[\"budget_x\"].sum()\n",
    "print(total_budget/billion)\n",
    "\n",
    "total_rev = df[\"revenue\"].sum()\n",
    "print(total_rev/billion)\n",
    "\n",
    "print(total_rev/total_budget)"
   ]
  },
  {
   "cell_type": "markdown",
   "id": "c2456c18-e71c-45ec-a2b0-973c239f2b5e",
   "metadata": {},
   "source": [
    "#### Data Augmentation\n",
    "\n",
    "To make these values easier to read lets change the units of the budget and revenue to million dollars instead of dollars.\n",
    "\n",
    "We can do this by creating a new column called budget_m and revenue_m."
   ]
  },
  {
   "cell_type": "code",
   "execution_count": 23,
   "id": "d6638b0e-6d6e-4084-95bd-d0b2ddbdd77a",
   "metadata": {},
   "outputs": [],
   "source": [
    "# Create budget and revenue columns in units of a million dollars\n",
    "df[\"budget_m\"] = df[\"budget_x\"]/1000000\n",
    "df[\"revenue_m\"] = df[\"revenue\"]/1000000"
   ]
  },
  {
   "cell_type": "code",
   "execution_count": 26,
   "id": "acf7d69a-882d-43f9-b603-1fc3438ad2db",
   "metadata": {},
   "outputs": [
    {
     "data": {
      "text/plain": [
       "0.0"
      ]
     },
     "execution_count": 26,
     "metadata": {},
     "output_type": "execute_result"
    }
   ],
   "source": [
    "# What is the lowest and highest budgets and revenues \n",
    "df[\"revenue_m\"].min()"
   ]
  },
  {
   "cell_type": "code",
   "execution_count": 27,
   "id": "09e295c6-302a-4465-b3e1-d0389dbf989f",
   "metadata": {},
   "outputs": [
    {
     "data": {
      "text/plain": [
       "2923.706026"
      ]
     },
     "execution_count": 27,
     "metadata": {},
     "output_type": "execute_result"
    }
   ],
   "source": [
    "df[\"revenue_m\"].max()"
   ]
  },
  {
   "cell_type": "code",
   "execution_count": 28,
   "id": "836c61b8-0bfd-4c0f-b3fc-673e4b2b3a2e",
   "metadata": {},
   "outputs": [
    {
     "name": "stdout",
     "output_type": "stream",
     "text": [
      "The mean budget in millions 64.88237889092159\n",
      "The median budget in millions 50.0\n",
      "Diffence between mean and median budgets:  14.882378890921586\n"
     ]
    }
   ],
   "source": [
    "# What is greater, the mean or the median value for budget? \n",
    "# What's the difference?\n",
    "print(\"The mean budget in millions\", df[\"budget_m\"].mean())\n",
    "print(\"The median budget in millions\", df[\"budget_m\"].median())\n",
    "\n",
    "print(\"Diffence between mean and median budgets: \", df[\"budget_m\"].mean() -  df[\"budget_m\"].median())"
   ]
  },
  {
   "cell_type": "code",
   "execution_count": 29,
   "id": "50c18ca2-64aa-4c52-ad15-9fcb05054cf9",
   "metadata": {},
   "outputs": [
    {
     "name": "stdout",
     "output_type": "stream",
     "text": [
      "The mean budget in millions 253.14009341880526\n",
      "The median budget in millions 152.9348765\n",
      "Diffence between mean and median budgets:  100.20521691880526\n"
     ]
    }
   ],
   "source": [
    "# What about for revenue?\n",
    "print(\"The mean budget in millions\", df[\"revenue_m\"].mean())\n",
    "print(\"The median budget in millions\", df[\"revenue_m\"].median())\n",
    "\n",
    "print(\"Diffence between mean and median budgets: \", df[\"revenue_m\"].mean() -  df[\"revenue_m\"].median())"
   ]
  },
  {
   "cell_type": "markdown",
   "id": "cabfdbd1-5ea6-497f-b706-9d51717b8add",
   "metadata": {},
   "source": [
    "Did you see that disparity!?\n",
    "\n",
    "Let's continue exploring to see if we can learn something about the film industry here. "
   ]
  },
  {
   "cell_type": "code",
   "execution_count": 30,
   "id": "74e83df4-9bf2-4ba3-891e-76bf0c1c2834",
   "metadata": {},
   "outputs": [
    {
     "name": "stdout",
     "output_type": "stream",
     "text": [
      "Budget STD in millions 57.0756452752878\n",
      "Revenue STD in millions 277.78804878156376\n"
     ]
    }
   ],
   "source": [
    "# How about standard deviation (std)? \n",
    "print(\"Budget STD in millions\", df[\"budget_m\"].std())\n",
    "print(\"Revenue STD in millions\", df[\"revenue_m\"].std())"
   ]
  },
  {
   "cell_type": "code",
   "execution_count": 31,
   "id": "1dc05869-98c7-4c65-b74e-6f3071acff62",
   "metadata": {},
   "outputs": [
    {
     "data": {
      "image/png": "[encoded data removed]",
      "text/plain": [
       "<Figure size 640x480 with 1 Axes>"
      ]
     },
     "metadata": {},
     "output_type": "display_data"
    }
   ],
   "source": [
    "bins = plt.hist(df[\"budget_m\"], bins=100)"
   ]
  },
  {
   "cell_type": "code",
   "execution_count": 32,
   "id": "e181afbe-b703-439f-8cc5-dcf6477726f1",
   "metadata": {},
   "outputs": [
    {
     "data": {
      "image/png": "[encoded data removed]",
      "text/plain": [
       "<Figure size 640x480 with 1 Axes>"
      ]
     },
     "metadata": {},
     "output_type": "display_data"
    }
   ],
   "source": [
    "bins = plt.hist(df[\"revenue_m\"], bins=100)"
   ]
  },
  {
   "cell_type": "markdown",
   "id": "b08ec719-8f4e-49fe-bb1f-3bca2c74d865",
   "metadata": {},
   "source": [
    "#### Feature engineering\n",
    "Combining multiple columns together to make new features is a common practice in data analysis. It is a powerful way to gain new insight into data. \n",
    "\n",
    "Lets do a simple example of this and make a column called \"profit\"!\n",
    "\n",
    "    profit = revenue - budget\n",
    "\n"
   ]
  },
  {
   "cell_type": "code",
   "execution_count": 33,
   "id": "ac808bd3-e6cd-488a-a8c5-5779261c41e3",
   "metadata": {},
   "outputs": [],
   "source": [
    "# Make a column called profit and add it to the DataFrame.\n",
    "\n",
    "df[\"profit_m\"] = df[\"revenue_m\"] - df[\"budget_m\"]\n"
   ]
  },
  {
   "cell_type": "code",
   "execution_count": 34,
   "id": "9b9b5b21-732f-43dd-a113-8780e32199bf",
   "metadata": {},
   "outputs": [
    {
     "data": {
      "text/plain": [
       "0         196.616668\n",
       "1        1856.794914\n",
       "2         624.459031\n",
       "3          21.900000\n",
       "4         263.941959\n",
       "            ...     \n",
       "10173       2.353729\n",
       "10174      -2.447457\n",
       "10175       1.197992\n",
       "10176     359.661306\n",
       "10177     447.001839\n",
       "Name: profit_m, Length: 10178, dtype: float64"
      ]
     },
     "execution_count": 34,
     "metadata": {},
     "output_type": "execute_result"
    }
   ],
   "source": [
    "df[\"profit_m\"]"
   ]
  },
  {
   "cell_type": "code",
   "execution_count": 35,
   "id": "d94c2d16-b69f-4c77-9675-f02d6bd5b216",
   "metadata": {},
   "outputs": [
    {
     "data": {
      "image/png": "[encoded data removed]",
      "text/plain": [
       "<Figure size 640x480 with 1 Axes>"
      ]
     },
     "metadata": {},
     "output_type": "display_data"
    }
   ],
   "source": [
    "bins = plt.hist(df[\"profit_m\"], range=(df[\"profit_m\"].min(), df[\"profit_m\"].max()), bins=100)"
   ]
  },
  {
   "cell_type": "markdown",
   "id": "2dafa310-08d0-4b7b-874e-b55341011f5c",
   "metadata": {},
   "source": [
    "#### Masking\n",
    "Creating masks is a convinient way to filter through data. \n",
    "\n",
    "By creating a condition and running over the data, we can create a mask of True/False statements.\n",
    "\n",
    "Operators in python are:\n",
    "\n",
    "    greater-than: >\n",
    "    less-than: <\n",
    "    equal: ==\n",
    "    not equal: !=\n",
    "    greater-than equal: >=\n",
    "    less-than equal: <=\n",
    "\n",
    "Lets see how they work in action!"
   ]
  },
  {
   "cell_type": "code",
   "execution_count": 36,
   "id": "3e077ecb-e95e-4d19-b435-14b984158910",
   "metadata": {},
   "outputs": [
    {
     "name": "stdout",
     "output_type": "stream",
     "text": [
      "This is the example array:  [0 1 2 3 4 5 6]\n",
      "This is the mask:  [False False False  True  True  True  True]\n",
      "These are the values in the array which pass the condition:  [3 4 5 6]\n"
     ]
    }
   ],
   "source": [
    "import numpy as np\n",
    "\n",
    "# Create an example array\n",
    "ex = np.array([0,1,2,3,4,5,6])\n",
    "print(\"This is the example array: \", ex)\n",
    "\n",
    "# Set a condition, greater-than or equal to three\n",
    "mask = ex >= 3\n",
    "print(\"This is the mask: \", mask)\n",
    "\n",
    "# use the mask to filter through the results\n",
    "print(\"These are the values in the array which pass the condition: \", ex[mask])"
   ]
  },
  {
   "cell_type": "markdown",
   "id": "ac79b545-7792-4b51-a4a2-9524953e43f2",
   "metadata": {},
   "source": [
    "Pandas is built to handle masks as well!"
   ]
  },
  {
   "cell_type": "code",
   "execution_count": 47,
   "id": "94d3ea12-a1c5-40e3-9045-1f3224fe8f75",
   "metadata": {},
   "outputs": [
    {
     "data": {
      "text/plain": [
       "3237"
      ]
     },
     "execution_count": 47,
     "metadata": {},
     "output_type": "execute_result"
    }
   ],
   "source": [
    "# search for films that profited over 250 million dollars\n",
    "\n",
    "# define the mask\n",
    "mask = df[\"profit_m\"] > 250\n",
    "\n",
    "# We can use the count method to see how many films managed to earn that much\n",
    "df.loc[mask,\"profit_m\"].count()"
   ]
  },
  {
   "cell_type": "code",
   "execution_count": 48,
   "id": "f295d7eb-282e-4b35-a5f1-9d6752ebcbb4",
   "metadata": {},
   "outputs": [
    {
     "data": {
      "text/plain": [
       "1995"
      ]
     },
     "execution_count": 48,
     "metadata": {},
     "output_type": "execute_result"
    }
   ],
   "source": [
    "# Determine how many films netted a negative profit\n",
    "mask_neg_profit = df[\"profit_m\"] < -0\n",
    "df.loc[mask_neg_profit, \"profit_m\"].count()"
   ]
  },
  {
   "cell_type": "markdown",
   "id": "b5c19fb9-02cb-4d46-800a-42ab70849c68",
   "metadata": {},
   "source": [
    "### Avioding multiple masks: Query\n",
    "\n",
    "Built in method for handling multiple conditions\n",
    "\n",
    "    df.query()"
   ]
  },
  {
   "cell_type": "code",
   "execution_count": 49,
   "id": "e892f2d1-a694-4f16-87d3-b22f8489077b",
   "metadata": {},
   "outputs": [
    {
     "data": {
      "text/plain": [
       "254"
      ]
     },
     "execution_count": 49,
     "metadata": {},
     "output_type": "execute_result"
    }
   ],
   "source": [
    "# What percent of films at a loss costed under 2 million dollars to make.\n",
    "\n",
    "df.query('budget_m < 1 and profit_m > 0')[\"profit_m\"].count()"
   ]
  },
  {
   "cell_type": "markdown",
   "id": "113036a7-09eb-4680-a1ee-986e90bc1c80",
   "metadata": {},
   "source": [
    "### Datetime\n",
    "Time is an important factor in determaning trends.\n",
    "\n",
    "Thankfully our dataframe has a \"date_x\" column which has the information on when the movie was released. \n",
    "\n",
    "What is a bit unforunate is that the information comes in the form of a string.\n",
    "\n",
    "Pandas is ready for that!\n",
    "\n",
    "#### pd.to_datetime()\n",
    "\n",
    "The pd.to_datetime() function turns strings that meet a certain criteria into Timestamp objects. \n",
    "\n",
    "     pd.to_datetime(\"date_column\")\n",
    "\n",
    "This will output a series containing datetime objects."
   ]
  },
  {
   "cell_type": "code",
   "execution_count": null,
   "id": "adfd4334-a195-4373-a0d4-1e71af6d1656",
   "metadata": {},
   "outputs": [],
   "source": [
    "# Use the pd.to_datetime function to define a new column in the DataFrame called \"date_time\" containing Timestamped objects\n",
    "\n",
    "df[\"date_time\"] = pd.to_datetime(df[\"date_x\"])"
   ]
  },
  {
   "cell_type": "code",
   "execution_count": null,
   "id": "b7eed4df-7191-425b-a260-52f2f0b5a4ae",
   "metadata": {},
   "outputs": [],
   "source": [
    "df.loc[0,\"date_time\"]"
   ]
  },
  {
   "cell_type": "markdown",
   "id": "1cd579a0-06df-405d-9445-be70323f4425",
   "metadata": {},
   "source": [
    "Lets go one step further and make seperate columns for the year and month!"
   ]
  },
  {
   "cell_type": "code",
   "execution_count": null,
   "id": "0b227a54-3e5c-4e80-8560-1437d99c9754",
   "metadata": {},
   "outputs": [],
   "source": [
    "# Define lists to store values\n",
    "year = []\n",
    "month = []\n",
    "\n",
    "# loop through Timestamp data\n",
    "for date in df[\"date_time\"]:\n",
    "    # Seperate year and month attributes and store appropriatly\n",
    "    year.append(date.year)\n",
    "    month.append(date.month)\n",
    "\n",
    "# create new columns in df \n",
    "df[\"year\"] = year\n",
    "df[\"month\"] = month"
   ]
  },
  {
   "cell_type": "markdown",
   "id": "1e6405fe-fce6-42d0-a3f7-fe8c6be4bad9",
   "metadata": {},
   "source": [
    "#### Lets use the dates! \n",
    "\n",
    "Can you tell me the mean budget for movies in 2022 and 2023.\n",
    "\n",
    "Hint: \n",
    "Remember that the condition for equal is =="
   ]
  },
  {
   "cell_type": "code",
   "execution_count": null,
   "id": "25e2a6bd-a52d-49eb-8916-fe59b6b8b3b9",
   "metadata": {},
   "outputs": [],
   "source": [
    "# Mean budget for 2022 and 2023\n",
    "\n",
    "mask = df[\"year\"] == 2022 \n",
    "print(\"mean budget 2022: \", df.loc[mask, \"budget_m\"].mean())\n",
    "\n",
    "mask = df[\"year\"] == 2023\n",
    "print(\"mean budget 2023\", df.loc[mask, \"budget_m\"].mean())\n"
   ]
  },
  {
   "cell_type": "markdown",
   "id": "718b13f4-f2e5-4e3c-813a-30fa459c8fc8",
   "metadata": {},
   "source": [
    "#### To many masks\n",
    "\n",
    "I want to know these states for every year of data we have available!\n",
    "\n",
    "But this is too slow, there must be a better way to run these queries and calculations. \n",
    "\n",
    "#### Groupby\n",
    "\n",
    "groupby() is that exact method.\n",
    "\n",
    "Here is how it works. \n",
    "\n",
    "    We create what is called a groupby object by running the groupby method on a DataFrame and passing a column_name as the argument:\n",
    "        \n",
    "        df.groupby(\"year\")\n",
    "\n",
    "This is almost like a DataFrame where the new indices are the **unique values** of the column_name argument passed to the method.\n",
    "\n",
    "So note: this will only really work well with somewhat categorical data.\n",
    "\n",
    "    Next we run aggregation methods or agg() on this groupby object.\n",
    "        df.groupby(\"year\").agg('mean')\n",
    "\n",
    "    We can specify which columns we want to work on the same way we would in a DataFrame object:\n",
    "        df.groupby(\"year\")[\"budget_m\"].agg('mean')\n",
    "\n",
    "    We can also run multiple aggregation functions at once and have those be the new column names!\n",
    "    We do this by passing multiple arguments to agg() in the form of a list:\n",
    "        df.groupby(\"year\")[\"budget_m\"].agg(['sum','count','mean'])\n",
    "\n",
    "If a single column is not specified and multiple aggregation methods are used we will get a DataFrame which has a heirarchical index structure. This is not the worst thing but we will avoid it for now. "
   ]
  },
  {
   "cell_type": "code",
   "execution_count": null,
   "id": "8bab8341-c284-411c-9c00-bb1353a3f18f",
   "metadata": {},
   "outputs": [],
   "source": [
    "# Run the command listed above where we group the data by the year of their release date\n",
    "\n",
    "# your code here\n",
    "by_year = df.groupby(\"year\")\n",
    "budget_by_year = by_year[\"budget_m\"].agg(['std','mean','count'])\n",
    "budget_by_year"
   ]
  },
  {
   "cell_type": "code",
   "execution_count": null,
   "id": "d8fb3c9b-c6e7-4a14-9a37-a4da751d658a",
   "metadata": {},
   "outputs": [],
   "source": [
    "plt.plot(budget_by_year)"
   ]
  },
  {
   "cell_type": "markdown",
   "id": "2e23d9db-bd5c-43e4-8176-211e2affd6a7",
   "metadata": {},
   "source": [
    "#### Making groupby your friend\n",
    "\n",
    "Groupby is a powerful function which at times can be a bit confusing. \n",
    "\n",
    "I really recommend using your own words to describe what the function is doing.\n",
    "\n",
    "Please! Think of another question which would be best answered by groupby and make the plot. \n",
    "\n",
    "Believe me, it is worth it to play with this function to really have it stick. \n",
    "\n",
    "#### apply\n",
    "\n",
    "For some inspiration run the cell below which creates a column called grade which uses the score to create an +A to F grade category.\n",
    "\n",
    "We can use the apply method to run a function on all values in the series:\n",
    "    \n",
    "    df.[column_name].apply(function_name)"
   ]
  },
  {
   "cell_type": "code",
   "execution_count": null,
   "id": "59350432-2f81-4e37-97cb-35381f672e03",
   "metadata": {},
   "outputs": [],
   "source": [
    "# Function to assign grades based on score\n",
    "def assign_grade(score):\n",
    "    thresh = [97, 93, 90, 87, 83, 80, 77, 73, 70, 67, 63, 60, 0]\n",
    "    grades = ['+A','A','-A','+B','B','-B','+C','C','-C','+D', 'D', '-D', 'F']\n",
    "    \n",
    "    i=0\n",
    "    \n",
    "    while True:\n",
    "        if score >= thresh[i]:\n",
    "            return grades[i]\n",
    "        i+=1"
   ]
  },
  {
   "cell_type": "code",
   "execution_count": null,
   "id": "502f538e-0727-43c4-bbec-70f6e02da505",
   "metadata": {},
   "outputs": [],
   "source": [
    "# Use the apply function on the score column to create a new grade column\n",
    "df[\"grades\"] = df[\"score\"].apply(assign_grade)\n",
    "df[\"grades\"]"
   ]
  },
  {
   "cell_type": "code",
   "execution_count": null,
   "id": "517ea46b-8ea6-4aa1-8079-07c1d93d7bdd",
   "metadata": {},
   "outputs": [],
   "source": [
    "# ProTip! \n",
    "\n",
    "# You can use lambda function within apply - lets use that to show a more elegant method to replace that nasty for-loop we used on the dates\n",
    "\n",
    "# Lambda are small annonymous functions. They work as: lambda input : output. Apply will funnel in all of the dates as input.\n",
    "df[\"year\"] = df[\"date_time\"].apply(lambda x : x.year)\n",
    "df[\"month\"] = df[\"date_time\"].apply(lambda x : x.month)\n",
    "\n",
    "# This was rushed so don't worry if you want to leave it for now."
   ]
  },
  {
   "cell_type": "code",
   "execution_count": null,
   "id": "7c86d5fe-9eea-48d4-8d8f-ba5cbb6a76ba",
   "metadata": {},
   "outputs": [],
   "source": [
    "# Here is some code to make a new genre column which is a bit easier to work with\n",
    "def genre_to_list(genre):\n",
    "    if type(genre) != str:\n",
    "        return \"-\"\n",
    "    return genre.replace(',\\xa0' , ' ').split()\n",
    "\n",
    "df[\"genre_list\"] = df[\"genre\"].apply(genre_to_list)\n",
    "df[\"genre_list\"]"
   ]
  },
  {
   "cell_type": "code",
   "execution_count": null,
   "id": "5c8c6800-eeda-4f75-ac62-b227f391cf6c",
   "metadata": {},
   "outputs": [],
   "source": [
    "# Make you're own groupby object - and sorry that the genre column is difficult to work with\n",
    "grades = ['+A','A','-A','+B','B','-B','+C','C','-C','+D', 'D', '-D', 'F']\n",
    "by_grade = df.groupby(\"grades\")\n",
    "rev_by_grade = by_grade[\"revenue_m\"].agg(\"mean\")\n",
    "organized_data = []\n",
    "\n",
    "for grade in grades:\n",
    "    organized_data.append(rev_by_grade.loc[grade])\n",
    "\n",
    "plt.plot(grades, organized_data)"
   ]
  },
  {
   "cell_type": "markdown",
   "id": "735c1acb-309d-47af-93bf-f8383339641b",
   "metadata": {},
   "source": [
    "### Plotting\n",
    "\n",
    "Visualizing data is an integral part of data analysis and often leads to insights which would have been difficult to recognize without it. \n",
    "\n",
    "Lucky for us, python has lots of tools to help us in making beautiful graphs, figures and plots."
   ]
  },
  {
   "cell_type": "code",
   "execution_count": null,
   "id": "f91e9fcf-00d8-46c8-9879-3ab6924073ed",
   "metadata": {},
   "outputs": [],
   "source": [
    "# Taking the index of the groupby DataFrame will give us the x variable\n",
    "x = budget_by_year.index\n",
    "x"
   ]
  },
  {
   "cell_type": "code",
   "execution_count": null,
   "id": "0e0c13a1-06cf-4f34-8e8e-b2730159dfc4",
   "metadata": {},
   "outputs": [],
   "source": [
    "# Plotting script for line plot\n",
    "\n",
    "def plot_y_by_x(x, y, std=None, x_label=\"year\", y_label=\"mean budget\"):\n",
    "    # Set the style of the plot\n",
    "    sns.set(style=\"whitegrid\")\n",
    "\n",
    "    # Create the plot\n",
    "    plt.figure(figsize=(12, 6))\n",
    "\n",
    "    # Plot mean budget\n",
    "    sns.lineplot(x=x, y=y, marker='o', label=y_label, color='b')\n",
    "\n",
    "    # Fill the area between mean_budget ± std_budget\n",
    "    if std is not None:\n",
    "        plt.fill_between(x,\n",
    "                 y - std,\n",
    "                 y + std,\n",
    "                 color='b', alpha=0.2, label='Std Dev')\n",
    "\n",
    "    # Customize the plot\n",
    "    plt.title(f'{y_label} by {x_label}')\n",
    "    plt.xlabel(x_label)\n",
    "    plt.ylabel(y_label)\n",
    "    plt.legend()\n",
    "\n",
    "    # Display the plot\n",
    "    plt.show()"
   ]
  },
  {
   "cell_type": "code",
   "execution_count": null,
   "id": "893d6eb6-50ae-4d38-a4dc-bce5a683e550",
   "metadata": {},
   "outputs": [],
   "source": [
    "# Lets first plot the average price of a movie by year. We can also include the standard deviarion \n",
    "y = budget_by_year[\"mean\"]\n",
    "std = budget_by_year[\"std\"]\n",
    "plot_y_by_x(x, y, std=std)"
   ]
  },
  {
   "cell_type": "code",
   "execution_count": null,
   "id": "e39d2f82-fb88-4448-8a9e-7a8b51ba341d",
   "metadata": {},
   "outputs": [],
   "source": [
    "y = budget_by_year[\"sum\"]\n",
    "plot_y_by_x(x, y, y_label=\"sum budget\")"
   ]
  },
  {
   "cell_type": "code",
   "execution_count": null,
   "id": "7775099b-8f9b-4af2-b8af-55e931089c77",
   "metadata": {},
   "outputs": [],
   "source": [
    "# Can you use the plotting script to plot the number of films released per year\n",
    "\n",
    "# your code here\n"
   ]
  },
  {
   "cell_type": "markdown",
   "id": "380b4488-8f3a-48e8-bf80-8fc59c89e450",
   "metadata": {},
   "source": [
    "Woah - looks a lot like the plot of the total money spent!\n",
    "\n",
    "Well, that makes sense given the average cost per film is pretty constant over the years."
   ]
  },
  {
   "cell_type": "markdown",
   "id": "8b70b241-d502-4353-913a-b7c3634cfbb2",
   "metadata": {},
   "source": [
    "#### Great!\n",
    "\n",
    "That's all for now - I really hope you enjoyed this tour of Pandas and that you found the exercises useful. \n",
    "\n",
    "There is still so much left unexplored. If you can dream it - you can probably do it with Pandas. \n"
   ]
  }
 ],
 "metadata": {
  "kernelspec": {
   "display_name": "Python 3 (ipykernel)",
   "language": "python",
   "name": "python3"
  },
  "language_info": {
   "codemirror_mode": {
    "name": "ipython",
    "version": 3
   },
   "file_extension": ".py",
   "mimetype": "text/x-python",
   "name": "python",
   "nbconvert_exporter": "python",
   "pygments_lexer": "ipython3",
   "version": "3.9.18"
  }
 },
 "nbformat": 4,
 "nbformat_minor": 5
}
