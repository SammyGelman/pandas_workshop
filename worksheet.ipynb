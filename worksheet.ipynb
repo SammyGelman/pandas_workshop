{
 "cells": [
  {
   "cell_type": "code",
   "execution_count": null,
   "id": "74af0110-6808-49f2-b5ab-c3a4d8e6695a",
   "metadata": {},
   "outputs": [],
   "source": [
    "# Hold Shift and press Enter to run a cell "
   ]
  },
  {
   "cell_type": "markdown",
   "id": "220a8baa-9a79-4820-8acc-49b038d2e74f",
   "metadata": {},
   "source": [
    "### Welcome to our Jupyter Notebook\n",
    "\n",
    "This is our jupyter notebook and it will help us learn a bit about Pandas and do some live interactive coding.\n",
    "\n",
    "This text is written in a cell. There are two types of cells , markdown and code.\n",
    "\n",
    "**Markdown** is a computer language for creating formatted text. The cell you are currently reading is a markdown cell. \n",
    "\n",
    "**Code** cells run the text through an interpreter, since this is a Python notebook a Python interpreter is used. Jupyter now supports notebooks for Python, Julia and R. \n",
    "\n",
    "If we tried to run this as a code cell we would get a bunch of syntax errors. "
   ]
  },
  {
   "cell_type": "markdown",
   "id": "6b00dae8-3a20-4e3d-a79e-f2db59d9a586",
   "metadata": {},
   "source": [
    "#### Work flow\n",
    "The work flow for this workshop will be mainly self contained - in a perfect world I would hope that this notebook could lead someone to an understanding of Pandas basics without any supervision. \n",
    "\n",
    "The participant should read through the cells, always running markdown cells immediatly and code cells after the content has been read.\n",
    "\n",
    "Many of the coding cells are left uncompleted and it is up to you to fill them out. I tried my best to almost always lead you to the answer directly from the markdown cells above each exercise.\n",
    "\n",
    "This notebook is not supposed to be overly challenging - it is meant to act like a tour guide on a leasurly stroll through Pandas. Pointing out the quirks and capabilities of this beautiful and useful Python library."
   ]
  },
  {
   "cell_type": "markdown",
   "id": "8a9f4235-6e62-408e-abba-24090b327869",
   "metadata": {},
   "source": [
    "#### Getting started\n",
    "So lets get into it! The first thing we are going to do is import a couple libraries into our coding environment.\n",
    "\n",
    "This is environment is started fresh when a notebook is opened and it is called a kernel. \n",
    "\n",
    "Every time we run a code block it will execute that code into the kernel and hold it in active memory.\n",
    "\n",
    "So an import made now will remain in the environment. The same goes for variable names and function definitions. \n",
    "\n",
    "In fact, that is what happens when an import is made - source code for. The pandas codebase is ~22MB. According to a coders community on reddit, a MB generally holds ~20,000 lines of code. Projects like this have a lot of documentation and testing scripts which usually account for a bit more than half of the codebase. After a bit of arithmatic it looks like that import command is running around 200,000 lines of code and keeping that all in memory! Computers are amazing!"
   ]
  },
  {
   "cell_type": "code",
   "execution_count": null,
   "id": "23b638b2-a2b8-4464-a952-8c80f76f0b30",
   "metadata": {},
   "outputs": [],
   "source": [
    "# Imports \n",
    "import pandas as pd\n",
    "import seaborn as sns\n",
    "import matplotlib.pyplot as plt"
   ]
  },
  {
   "cell_type": "markdown",
   "id": "071ed2fc-0e97-4fbc-910f-862a5b8afdb5",
   "metadata": {},
   "source": [
    "#### A land before pandas\n",
    "\n",
    "Before we jump into Pandas let's take a look at what people did before it. \n",
    "\n",
    "Organizing data using dictionaries."
   ]
  },
  {
   "cell_type": "code",
   "execution_count": null,
   "id": "43c7b38a-84c7-43fd-82e3-4d47c7f766bf",
   "metadata": {},
   "outputs": [],
   "source": [
    "# Here is an example dictionary - run the cell and load it into memory.\n",
    "\n",
    "fruit_dictionary = {\n",
    "    \"names\" : ['lemon', 'banana', 'apple' , 'strawberry'],\n",
    "    \"color\" : [['yellow'], ['yellow'], ['red', 'green'], ['red']],\n",
    "    \"edible_seeds\" : ['no', 'yes', 'no', 'yes']\n",
    "}"
   ]
  },
  {
   "cell_type": "markdown",
   "id": "4ea7e248-1549-4e97-9b86-a9a159bb71c6",
   "metadata": {},
   "source": [
    "Dictionaries are broken up into key-value pairs.\n",
    "    \n",
    "    dict = { key : value }\n",
    "\n",
    "Use the print function to see the whole dictionary:\n",
    "    \n",
    "    print(dict)"
   ]
  },
  {
   "cell_type": "code",
   "execution_count": null,
   "id": "5514aa7c-025a-4446-a821-598b6c703463",
   "metadata": {},
   "outputs": [],
   "source": [
    "# Print the dictionary using the print() function and the proper variable name.\n",
    "\n",
    "# your code here:\n",
    "print(fruit_dictionary)"
   ]
  },
  {
   "cell_type": "markdown",
   "id": "8006f960-805e-411e-b403-f51c733ca984",
   "metadata": {},
   "source": [
    "We can use the built in key() and value() methods to see the contents of the dictionary."
   ]
  },
  {
   "cell_type": "code",
   "execution_count": null,
   "id": "689c37e1-c7af-48b2-b0ba-fa98af01eb92",
   "metadata": {},
   "outputs": [],
   "source": [
    "# using a for loop to print the keys persent in fruit_dictionary\n",
    "for key in fruit_dictionary.keys():\n",
    "    print(key)"
   ]
  },
  {
   "cell_type": "code",
   "execution_count": null,
   "id": "f4a869d1-d742-4e84-91ce-7d5e67712e6d",
   "metadata": {},
   "outputs": [],
   "source": [
    "# Try to print out the values of the dictionary!\n",
    "\n",
    "# your code here:\n",
    "for value in fruit_dictionary.values():\n",
    "    print(value)"
   ]
  },
  {
   "cell_type": "markdown",
   "id": "5c138359-6dd4-487f-a060-73da291882ae",
   "metadata": {},
   "source": [
    "### Converting to a DataFrame\n",
    "Use the pd.DataFrame() function to convert the dictionary into a DataFrame.\n",
    "\n",
    "    df = pd.DataFrame(dictionary)\n",
    "\n",
    "Note: df is a popular variable name for the DataFrame you are working with in memory. But it is just a variable and you can name it nearly anything you'd like."
   ]
  },
  {
   "cell_type": "code",
   "execution_count": null,
   "id": "8b85823b-26df-4273-825b-cb3c2971d408",
   "metadata": {},
   "outputs": [],
   "source": [
    "# Turn the fruit_dictionary object into a DataFrame. Then print it out and lmk what you think.\n",
    "\n",
    "# your code here:\n",
    "df = pd.DataFrame(fruit_dictionary)\n",
    "df"
   ]
  },
  {
   "cell_type": "markdown",
   "id": "cf3d240a-8a7e-4372-8ce4-81e2b77639e9",
   "metadata": {},
   "source": [
    "### Moving on to more interesting data\n",
    "Kaggle is a machine learning and data science community that share tons of great resources and hosts exciting competitions. \n",
    "\n",
    "We downloaded a fun dataset from them.\n",
    "\n",
    "I hope you like movies!"
   ]
  },
  {
   "cell_type": "markdown",
   "id": "ef68748a-d029-4708-961e-8a28745632d2",
   "metadata": {},
   "source": [
    "#### Loading in data\n",
    "\n",
    "Datasets are often saved as comma-seperated value (.csv) files.\n",
    "\n",
    "Use the pandas read_csv function to load the .csv file as a dataframe.\n",
    "\n",
    "    df = pd.read_csv('foo.csv')\n",
    "\n",
    "Two things to note:\n",
    "    \n",
    "    - Even though it is poor practice we are going to overwrite our fruit dataframe and give this one variable name df.\n",
    "    \n",
    "    - The file is located in the same directory as this notebook and is called \"imdb_movies.csv\" - remember to put the file name in quotes or python will think it is a variable.    "
   ]
  },
  {
   "cell_type": "code",
   "execution_count": null,
   "id": "ef48c24f-b1d0-4d3f-8b02-0ebbd3a02c88",
   "metadata": {},
   "outputs": [],
   "source": [
    "# load the file \"imdb_movies.csv\" to the variable named df.\n",
    "\n",
    "# your code here:\n",
    "df = pd.read_csv('../../imdb_movies.csv')"
   ]
  },
  {
   "cell_type": "markdown",
   "id": "9d510b72-5ee9-4153-8921-4c0f032daad0",
   "metadata": {},
   "source": [
    "#### Just a peak\n",
    "You can look at the first n rows of a dataframe by using the .head() method. \n",
    "\n",
    "    df.head(n)\n",
    "\n",
    "Where n is an integer value, the default is 5"
   ]
  },
  {
   "cell_type": "code",
   "execution_count": null,
   "id": "6e96e8ed-269d-4943-9ac8-84801d2f9ff9",
   "metadata": {},
   "outputs": [],
   "source": [
    "# Look at the top ten columns and see if how many of the movies you recognize.\n",
    "\n",
    "# your code here\n",
    "df.head(4)"
   ]
  },
  {
   "cell_type": "markdown",
   "id": "8dd9410b-f04c-42ab-9b04-dd5522bf5be3",
   "metadata": {},
   "source": [
    "Only see a 9 at then end of the columns - remember pandas, true to Python, is index base 0!"
   ]
  },
  {
   "cell_type": "markdown",
   "id": "3070246f-2629-4f71-b860-bf851d901060",
   "metadata": {},
   "source": [
    "#### Columns and Index\n",
    "The DataFrame equivilent to keys and pairs are columns and index.\n",
    "\n",
    "The index of the dataframe represents the rows. For some dataframes the index is a label and for others it is just a number, like in our case. \n",
    "\n",
    "Print the columns and indecies of the DataFrame in the following way:\n",
    "\n",
    "    df.columns\n",
    "    df.index"
   ]
  },
  {
   "cell_type": "code",
   "execution_count": null,
   "id": "98da84da-c044-42f1-bb14-401ea65933b1",
   "metadata": {},
   "outputs": [],
   "source": [
    "# Print out the columns and index of the DataFrame below.\n",
    "# Note that in Jupyter notebooks it will only print out the last line of code\n",
    "# To print out multiple lines use the print() function\n",
    "\n",
    "# your code here\n",
    "print(df.columns)\n",
    "print(df.index)\n"
   ]
  },
  {
   "cell_type": "markdown",
   "id": "d0005c20-197f-4d8d-be1b-87c48f3840f8",
   "metadata": {},
   "source": [
    "The output of the columns and index methods behave like lists.\n",
    "\n",
    "We can use the len() function to see the number or columns and rows we have."
   ]
  },
  {
   "cell_type": "code",
   "execution_count": null,
   "id": "477106b9-a7d1-466a-8517-4f44559403d8",
   "metadata": {},
   "outputs": [],
   "source": [
    "# Print the length of the columns and rows using len()\n",
    "\n",
    "# your code here\n",
    "print(\"This is the number of columns: \", len(df.columns))\n",
    "print(\"This is the number of rows: \", len(df.index))"
   ]
  },
  {
   "cell_type": "markdown",
   "id": "8bc7a014-e5e0-4979-b27d-cf2cc44ba47c",
   "metadata": {},
   "source": [
    "#### Exploring Columns\n",
    "\n",
    "We can print out a specific column of the dataframe by writing its name next to the dataframe variable is square brackets similar to indexing through lists or arrays. \n",
    "\n",
    "    df[\"column_name\"]\n",
    "\n",
    "Use the cell below to try isolating certain columns. If you forgot the specific names you can always print them out again. Another option would be to use chose a column by number as follows:\n",
    "\n",
    "    df[df.columns[0]]\n",
    "\n",
    "This is checking the first column, remember that the output of the .columns methods behaves like a list. "
   ]
  },
  {
   "cell_type": "code",
   "execution_count": null,
   "id": "ead0558e-f2bd-4027-8308-4361c08a447e",
   "metadata": {},
   "outputs": [],
   "source": [
    "# Isolate columns using the column-wise indexing. \n",
    "\n",
    "# your code here\n",
    "df['names']\n",
    "df[df.columns[0]]"
   ]
  },
  {
   "cell_type": "markdown",
   "id": "a6204124-a4df-4da2-be24-90f30e8bd64f",
   "metadata": {},
   "source": [
    "#### Exploring Indecies \n",
    "There are two major indexing attributes that come build-in to dataframe objects: loc and iloc. \n",
    "\n",
    "The difference being that loc is label-based and iloc is integer-based.\n",
    "\n",
    "Show the content at a specific index:\n",
    "\n",
    "    df.loc[\"index_name\", \"column_name\"]\n",
    "    df.iloc[\"index_num\", \"column_number\"]\n",
    "\n",
    "Note: When indexes are integer based, like in our case, use an integer index even while using loc. \n",
    "\n",
    "Also Note: If a column name or number is missing, all values will be displayed."
   ]
  },
  {
   "cell_type": "code",
   "execution_count": null,
   "id": "b2111734-8236-4e9e-8205-fc125bb3ca63",
   "metadata": {},
   "outputs": [],
   "source": [
    "# Print out the budget for the 10th entry of the df\n",
    "# Use both loc and iloc \n",
    "\n",
    "# your code here\n",
    "print(df.loc[9, \"budget_x\"])\n",
    "print(df.iloc[9, 9])"
   ]
  },
  {
   "cell_type": "markdown",
   "id": "96f9a471-ec9f-4bf6-9326-b4d3d575e3f5",
   "metadata": {},
   "source": [
    "#### Slicing \n",
    "What if we want to show multiple rows or multiple columns?\n",
    "\n",
    "For this we can use slicing which works very similarly to slicing in python lists and arrays. \n",
    "\n",
    "There is a distinction worth making and that is that loc is **inclusive**  whereas iloc, like slicing elsewhere in python, is **exclusive**\n",
    "\n",
    "This is logical because we want to include the labeled columns which we write down.\n",
    "\n",
    "Slicing works by using colons (:) do signal all intermediate values between indecies. \n",
    "\n",
    "    df.iloc[4:10, 0:3]\n",
    "\n",
    "This would denote rows [4,5,6,7,8,9] and columns [0,1,2].\n",
    "\n",
    "A column by itseld would give all available indecies:\n",
    "\n",
    "    df.iloc[:,0]\n",
    "\n",
    "This will show all of the rows in the first column.\n"
   ]
  },
  {
   "cell_type": "code",
   "execution_count": null,
   "id": "93a80048-b153-4622-b3be-3fc642f96619",
   "metadata": {},
   "outputs": [],
   "source": [
    "# Run cell\n",
    "\n",
    "df.iloc[4:10, 0:3]"
   ]
  },
  {
   "cell_type": "markdown",
   "id": "ab6d7ae0-89be-4fa9-b65c-0e67bf02b13e",
   "metadata": {},
   "source": [
    "A few other tips for slicing syntax:\n",
    "\n",
    "    Using negative numbers will take indecies starting from the end.\n",
    "    \n",
    "        df.iloc[-1], will take show the last row. Unfortunately, negative indexing is not supported with loc\n",
    "    \n",
    "    A lone ':' before or after an integer index will take all availbale indecies before or after respectively:\n",
    "        \n",
    "        df.iloc[:5] will show indecies 0 - 5\n",
    "        df.iloc[5:] will show indcies 5 until the end. "
   ]
  },
  {
   "cell_type": "code",
   "execution_count": null,
   "id": "f4887d68-16eb-4899-b939-a59c9b0199c1",
   "metadata": {},
   "outputs": [],
   "source": [
    "# Print out the names (column 0 - but you know how to check that right!) first 10 and the last 10 rows\n",
    "\n",
    "# your code here\n",
    "print(df.loc[:10, \"names\"], df.iloc[-10:, 0])"
   ]
  },
  {
   "cell_type": "code",
   "execution_count": null,
   "id": "431d9b82-dc83-42da-b796-40fed7a4327a",
   "metadata": {},
   "outputs": [],
   "source": [
    "# For those interested this is a work around to using negative indexing while also using loc.\n",
    "\n",
    "# I works by supplying a list with the index 'names' and then providing those as locations for loc.\n",
    "last_ten_idx = df.index[-10:]\n",
    "print(last_ten_idx)\n",
    "\n",
    "df.loc[last_ten_idx, \"names\"]"
   ]
  },
  {
   "cell_type": "markdown",
   "id": "a5f04da3-3022-4da0-aa6f-7df61f95a73e",
   "metadata": {},
   "source": [
    "#### List of indecies \n",
    "You can also use lists to specifiy which indecies we want to see:\n",
    "\n",
    "    rows = [4, 7, 9]\n",
    "    cols = [3, 6]\n",
    "\n",
    "    df.iloc[rows, cols]\n",
    "\n",
    "This will output the defined rows and columns. \n",
    "\n",
    "Note that they dont need to be in order"
   ]
  },
  {
   "cell_type": "code",
   "execution_count": null,
   "id": "8d9b946b-9b5a-4be2-9252-a19d86c4d316",
   "metadata": {},
   "outputs": [],
   "source": [
    "# Output the collection of rows and columns above using loc instead of iloc!\n",
    "\n",
    "rows = [4, 7, 9]\n",
    "cols = [3, 6]\n",
    "\n",
    "print(df.iloc[rows, cols])\n",
    "\n",
    "# your code here:\n",
    "rows = [4, 7, 9]\n",
    "cols = [df.columns[3], df.columns[6]]\n",
    "\n",
    "print(df.loc[rows, cols])"
   ]
  },
  {
   "cell_type": "markdown",
   "id": "899ea29e-5ff0-484e-a9ad-953b121c4994",
   "metadata": {},
   "source": [
    "####  A short investigation of data types (dtypes) in pandas\n",
    "Pandas handles different types of data differently, be them strings, integers, floats, etc.\n",
    "\n",
    "This happens on a column to column basis. We can check the identity of each column by checking its dtypes attribute:\n",
    "    \n",
    "    df.dtypes\n",
    "\n",
    "This will print out the column name and its corresponding datatype. "
   ]
  },
  {
   "cell_type": "code",
   "execution_count": null,
   "id": "2b2d5592-16ee-4db7-ae84-22cfda01671b",
   "metadata": {},
   "outputs": [],
   "source": [
    "# Run the command and observe the output\n",
    "df.dtypes"
   ]
  },
  {
   "cell_type": "markdown",
   "id": "284353ad-a57d-42b5-8c48-8ecc89d056a2",
   "metadata": {},
   "source": [
    "### Data types\n",
    "One of the reasons that pandas is so useful is its ability to handle and organize many different types of data in the same table. \n",
    "\n",
    "#### Objects\n",
    "Items in the object datatype can be strings, floats, lists or NaNs all within the same column. Again, columns are predefined as an optimization tool within pandas to best allocate resources.\n",
    "\n",
    "While this is convenient, using columns classified as objects unnecessarily could negatively impact the performace of your code when working with larger datasets."
   ]
  },
  {
   "cell_type": "markdown",
   "id": "6226979e-ac97-4fff-b0f1-4cd5c94f097d",
   "metadata": {},
   "source": [
    "####  Copy in order to preserve\n",
    "Up until this point we have been observing the df from many different angles without actually changing it. \n",
    "\n",
    "For this upcoming exercise we will use the copy method to clone a subset of the df so that we can manipluate it and learn more about how they behave. \n",
    "\n",
    "    df_subset_copy = df.loc[\"subset\"].copy()\n",
    "\n",
    "The way pd.DataFrames behave is different from the way lists behave. \n",
    "\n",
    "In a list, when you define a variable as a subset of the list, it automatically copies that. The new variable is disconnected to list in everyway:\n",
    "\n",
    "    example_list = [1,2,3,4,5]\n",
    "    new_list = example_list[0:2]\n",
    "    new_list[0] = 6\n",
    "\n",
    "The above code will run without a problem - example_list was defined, new_list was defined as the first two values of example_list, then new_list was changed to that the first value was changed to a 6 instead of a 1. \n",
    "\n",
    "The same thing done for a pd.DataFrame would raise an error. \n",
    "\n",
    "    df_row = df.iloc[0]\n",
    "    df_row[\"names\"] = \"better_movie_name\"\n",
    "\n",
    "This example would raise an error. Pandas wants to avoid people making changes to the dataframe. It trys to promote leanring from the data more than changing it.\n",
    "\n",
    "For this reason we use the copy method to insure that we are well aware of what we are doing before we change the data. \n",
    "\n",
    "You can overwrite the df by redefining it.\n",
    "\n",
    "    df = df.iloc[1:10, 1:10]\n",
    "\n",
    "    or even\n",
    "\n",
    "    df = \"Where did my dataframe go!\"\n",
    "\n",
    "While there are some guardrails around over writing the DataFrame, there are many instances where it is the right thing to do! "
   ]
  },
  {
   "cell_type": "code",
   "execution_count": null,
   "id": "8d39d4d4-5d47-469e-84b6-75d2a3e7f59b",
   "metadata": {},
   "outputs": [],
   "source": [
    "# Here you can see the error for yourself\n",
    "\n",
    "example_list = [1,2,3,4,5]\n",
    "new_list = example_list[0:2]\n",
    "print(\"new_list before edit: \", new_list)\n",
    "new_list[0] = 6\n",
    "print(\"new_list after edit: \", new_list)\n",
    "\n",
    "df_row = df.iloc[0]\n",
    "df_row[\"names\"] = \"better_movie_name\"\n"
   ]
  },
  {
   "cell_type": "code",
   "execution_count": null,
   "id": "20ce631c-4936-415f-bc33-6f58a7247e93",
   "metadata": {},
   "outputs": [],
   "source": [
    "# define df_row as a copy of df.iloc[0] and make the edit, then print the series out to make sure it worked\n",
    "\n",
    "# your code here\n",
    "df_row = df.iloc[0].copy()\n",
    "df_row[\"names\"] = \"better_movie_name\"\n",
    "\n",
    "df_row[\"names\"]"
   ]
  },
  {
   "cell_type": "markdown",
   "id": "d765242c-35a4-4a8d-940c-e95c19b876b4",
   "metadata": {},
   "source": [
    "#### Adding new data\n",
    "\n",
    "The last skill we need to learn before we can learn a bit more about how DataFrames handle dtypes how to add more data to a pd.DataFrame.\n",
    "\n",
    "When attaching a series to a DataFrame, loc is actually the best way to do it. \n",
    "\n",
    "That is because loc takes the index number to be the name of the df, all we have to do is add the number of the new row and the define it as the series:\n",
    "\n",
    "    df_copy.loc[name_of_newest_row] = new_row\n",
    "\n",
    "Caution - this is writing over data into the DataFrame, be careful what you add and where.\n",
    "\n",
    "Additionally, the index label doesnt need to be a number. DataFrame rows can assume names which are strings as well, so remember to remain consistent!"
   ]
  },
  {
   "cell_type": "markdown",
   "id": "94ef0174-ae28-43c0-9c55-b665c9387fb2",
   "metadata": {},
   "source": [
    "### The exercise!\n",
    "For this little demonstration I want you to carry out the following tasks:\n",
    "\n",
    "#### 1:\n",
    "Create a copy of the df to work with.\n",
    "#### 2:\n",
    "Define a new_row variable which is a copy of a row from the dataset.\n",
    "#### 3:\n",
    "Redefine the recorded 'score' of that row to be a string spelling out the numbered score:\n",
    "    \n",
    "    73 -> \"seventy three\"\n",
    "#### 4:\n",
    "Add the new_row onto the end of the copied data frame.\n",
    "#### 5:\n",
    "Compare the dtypes of df and df_copy and tell me what happened :)"
   ]
  },
  {
   "cell_type": "code",
   "execution_count": null,
   "id": "2db4c8ea-0e39-41d5-9018-e61254f3d1bd",
   "metadata": {},
   "outputs": [],
   "source": [
    "# Create a copy of the df to work with.\n",
    "\n",
    "# your code here\n",
    "df_copy = df.copy()"
   ]
  },
  {
   "cell_type": "code",
   "execution_count": null,
   "id": "d9875a30-c16d-45af-8fac-2c6d1f3891ad",
   "metadata": {},
   "outputs": [],
   "source": [
    "df_copy.iloc[-1]"
   ]
  },
  {
   "cell_type": "code",
   "execution_count": null,
   "id": "2703c124-d719-471b-a077-896ceb4d8fd3",
   "metadata": {},
   "outputs": [],
   "source": [
    "# Define a new_row variable which is a copy of a row from the dataset.\n",
    "\n",
    "# your code here\n",
    "new_row = df.iloc[0].copy()"
   ]
  },
  {
   "cell_type": "code",
   "execution_count": null,
   "id": "def2972e-fe92-4616-8aef-cef813ecd680",
   "metadata": {},
   "outputs": [],
   "source": [
    "# Redefine the recorded 'score' of that row to be a string spelling out the numbered score.\n",
    "\n",
    "# your code here\n",
    "new_row[\"score\"] = \"seventy three\""
   ]
  },
  {
   "cell_type": "code",
   "execution_count": null,
   "id": "1a5e9d47-e007-428c-8aae-70feaf8bbcd5",
   "metadata": {},
   "outputs": [],
   "source": [
    "# Append the new_row onto the end of the copied data frame.\n",
    "\n",
    "# your code here\n",
    "df_copy.loc[len(df.index)] = new_row"
   ]
  },
  {
   "cell_type": "code",
   "execution_count": null,
   "id": "330ab824-2afc-40ec-b46c-458576017749",
   "metadata": {},
   "outputs": [],
   "source": [
    "# Compare the dtypes of df and df_copy and tell me what happened :)\n",
    "\n",
    "print(df.dtypes)\n",
    "print(df_copy.dtypes)"
   ]
  },
  {
   "cell_type": "markdown",
   "id": "ab06aabb-eb91-481b-a6ac-0303c0a027ad",
   "metadata": {},
   "source": [
    "#### The column type changed!\n",
    "It may have been a round about way to show it, but note how adding a new piece of data of a different type to the dataset can change the way Pandas handles **all** the data in the column.\n",
    "\n",
    "This wouldnt be a big problem here but if you are working with larger datasets, adding a row with a float instead of an int could cost a lot in overhead without any gain!"
   ]
  },
  {
   "cell_type": "markdown",
   "id": "be6257a5-f8a2-426d-8148-fcf2ccf0d593",
   "metadata": {},
   "source": [
    "#### Mathematical Operations\n",
    "This is where things get fun! \n",
    "\n",
    "Here are a couple functions which will help you answer the questions below:\n",
    "\n",
    "    sum(): Compute the sum of values.\n",
    "    mean(): Compute the mean of values.\n",
    "    median(): Compute the median of values.\n",
    "    std(): Compute the standard deviation.\n",
    "    var(): Compute the variance.\n",
    "    min(): Find the minimum value.\n",
    "    max(): Find the maximum value.\n",
    "    count(): Count the number of non-NA/null observations.\n",
    "\n",
    "The methods work in the following way:\n",
    "\n",
    "    mean_col = df[\"column_name\"].mean()\n",
    "\n",
    "Remember that putting a column name in square brackets gives all available indecies for the columns.\n",
    "\n",
    "Could you print the same values using loc?"
   ]
  },
  {
   "cell_type": "code",
   "execution_count": null,
   "id": "715d8655-99aa-4c5a-8094-37324f48bc19",
   "metadata": {},
   "outputs": [],
   "source": [
    "# What is the sum total budget and revenues for the film industry as per our dataset in billion dollars?\n",
    "billion = 1000000000\n",
    "\n",
    "# your code here\n",
    "print(df[\"budget_x\"].sum()/billion)\n",
    "print(df[\"revenue\"].sum()/billion)"
   ]
  },
  {
   "cell_type": "markdown",
   "id": "c2456c18-e71c-45ec-a2b0-973c239f2b5e",
   "metadata": {},
   "source": [
    "Woah!!! Big money in film!\n",
    "\n",
    "To make these values easier to read lets change the units of the budget and revenue to million dollars instead of dollars.\n",
    "\n",
    "We can do this by creating a new column called budget_m and revenue_m."
   ]
  },
  {
   "cell_type": "code",
   "execution_count": null,
   "id": "d6638b0e-6d6e-4084-95bd-d0b2ddbdd77a",
   "metadata": {},
   "outputs": [],
   "source": [
    "# Create budget and revenue columns in units of a million dollars\n",
    "df[\"budget_m\"] = df[\"budget_x\"]/1000000\n",
    "df[\"revenue_m\"] = df[\"revenue\"]/1000000"
   ]
  },
  {
   "cell_type": "code",
   "execution_count": null,
   "id": "acf7d69a-882d-43f9-b603-1fc3438ad2db",
   "metadata": {},
   "outputs": [],
   "source": [
    "# What is the lowest and highest budgets and revenues \n",
    "\n",
    "# your code here\n",
    "print(df[\"budget_m\"].min())\n",
    "print(df[\"budget_m\"].max())\n",
    "\n",
    "print(df[\"revenue_m\"].min())\n",
    "print(df[\"revenue_m\"].max())"
   ]
  },
  {
   "cell_type": "code",
   "execution_count": null,
   "id": "836c61b8-0bfd-4c0f-b3fc-673e4b2b3a2e",
   "metadata": {},
   "outputs": [],
   "source": [
    "# What is greater, the mean or the median value for budget? What's the difference?\n",
    "\n",
    "# your code here\n",
    "df[\"budget_m\"].mean() > df[\"budget_m\"].median()\n",
    "(df[\"budget_m\"].mean() - df[\"budget_m\"].median())\n"
   ]
  },
  {
   "cell_type": "code",
   "execution_count": null,
   "id": "50c18ca2-64aa-4c52-ad15-9fcb05054cf9",
   "metadata": {},
   "outputs": [],
   "source": [
    "# What about for revenue?\n",
    "\n",
    "# your code here\n",
    "df[\"revenue_m\"].mean() > df[\"revenue_m\"].median()\n",
    "(df[\"revenue_m\"].mean() - df[\"revenue_m\"].median())"
   ]
  },
  {
   "cell_type": "markdown",
   "id": "cabfdbd1-5ea6-497f-b706-9d51717b8add",
   "metadata": {},
   "source": [
    "Did you see that disparity!?\n",
    "\n",
    "Lets continue exploring to see if we can learn something about the film industry here. "
   ]
  },
  {
   "cell_type": "code",
   "execution_count": null,
   "id": "edc0ae48-7f18-48c2-8472-79c5a3b43e63",
   "metadata": {},
   "outputs": [],
   "source": [
    "# What is the mean budget and revenues for films in the DataFrame\n",
    "\n",
    "# your code here\n",
    "print(df[\"budget_m\"].mean())\n",
    "print(df[\"revenue_m\"].mean())"
   ]
  },
  {
   "cell_type": "code",
   "execution_count": null,
   "id": "74e83df4-9bf2-4ba3-891e-76bf0c1c2834",
   "metadata": {},
   "outputs": [],
   "source": [
    "# How about standard deviation (std)? \n",
    "\n",
    "# your code here\n",
    "print(df[\"budget_m\"].std())\n",
    "print(df[\"revenue_m\"].std())"
   ]
  },
  {
   "cell_type": "markdown",
   "id": "b08ec719-8f4e-49fe-bb1f-3bca2c74d865",
   "metadata": {},
   "source": [
    "#### Feature engineering\n",
    "Combining multiple columns together to make new features is a common practice in data analysis. It is a powerful way to gain new insight into data. \n",
    "\n",
    "Lets do a simple example of this and make a column called \"profit\"!\n",
    "\n",
    "    profit = revenue - budget\n",
    "\n"
   ]
  },
  {
   "cell_type": "code",
   "execution_count": null,
   "id": "ac808bd3-e6cd-488a-a8c5-5779261c41e3",
   "metadata": {},
   "outputs": [],
   "source": [
    "# Make a column called profit and add it to the DataFrame.\n",
    "\n",
    "# your code here\n",
    "df[\"profit\"] = df[\"revenue_m\"] - df[\"budget_m\"]"
   ]
  },
  {
   "cell_type": "code",
   "execution_count": null,
   "id": "9b9b5b21-732f-43dd-a113-8780e32199bf",
   "metadata": {},
   "outputs": [],
   "source": [
    "df[\"profit\"]"
   ]
  },
  {
   "cell_type": "code",
   "execution_count": null,
   "id": "d94c2d16-b69f-4c77-9675-f02d6bd5b216",
   "metadata": {},
   "outputs": [],
   "source": [
    "df[\"revenue_m\"][1]"
   ]
  },
  {
   "cell_type": "markdown",
   "id": "2dafa310-08d0-4b7b-874e-b55341011f5c",
   "metadata": {},
   "source": [
    "#### Masking\n",
    "Creating masks is a convinient way to filter through data. \n",
    "\n",
    "By creating a condition and running over the data, we can create a mask of True/False statements.\n",
    "\n",
    "Condtions in python are:\n",
    "\n",
    "    greater-than: >\n",
    "    less-than: <\n",
    "    equal: ==\n",
    "    not equal: !=\n",
    "    greater-than equal: >=\n",
    "    less-than equal: <=\n",
    "\n",
    "Lets see how they work in action!"
   ]
  },
  {
   "cell_type": "code",
   "execution_count": null,
   "id": "3e077ecb-e95e-4d19-b435-14b984158910",
   "metadata": {},
   "outputs": [],
   "source": [
    "import numpy as np\n",
    "\n",
    "# Create an example array\n",
    "ex = np.array([0,1,2,3,4,5,6])\n",
    "print(\"This is the example array: \", ex)\n",
    "\n",
    "# Set a condition, greater-than or equal to three\n",
    "mask = ex >= 3\n",
    "print(\"This is the mask: \", mask)\n",
    "\n",
    "# use the mask to filter through the results\n",
    "print(\"These are the values in the array which pass the condition: \", ex[mask])"
   ]
  },
  {
   "cell_type": "markdown",
   "id": "ac79b545-7792-4b51-a4a2-9524953e43f2",
   "metadata": {},
   "source": [
    "Pandas is built to handle masks as well!"
   ]
  },
  {
   "cell_type": "code",
   "execution_count": null,
   "id": "94d3ea12-a1c5-40e3-9045-1f3224fe8f75",
   "metadata": {},
   "outputs": [],
   "source": [
    "# search for films that profited over 250 million dollars\n",
    "\n",
    "# define the mask\n",
    "mask = df[\"profit\"] > 250\n",
    "\n",
    "# We can use the count method to see how many films managed to earn that much\n",
    "df.loc[mask].count()"
   ]
  },
  {
   "cell_type": "markdown",
   "id": "90b6db27-25d0-4853-a729-641242461ed2",
   "metadata": {},
   "source": [
    "Side note about count:\n",
    "\n",
    "Count will count all of the valued results per column. \n",
    "\n",
    "You might have noticed that the \"crew\" column is the only one with fewer results after count was run. This shows that there is some missing data - it happens all the time!\n",
    "\n",
    "With that, it's your turn!\n",
    "\n",
    "Lets see how many films lost money."
   ]
  },
  {
   "cell_type": "code",
   "execution_count": null,
   "id": "f295d7eb-282e-4b35-a5f1-9d6752ebcbb4",
   "metadata": {},
   "outputs": [],
   "source": [
    "# Determine how many films netted a negative profit\n",
    "\n",
    "# your code here\n"
   ]
  },
  {
   "cell_type": "markdown",
   "id": "113036a7-09eb-4680-a1ee-986e90bc1c80",
   "metadata": {},
   "source": [
    "#### Datetime\n",
    "Time is an important factor in determaning trends.\n",
    "\n",
    "Thankfully our dataframe has a \"date_x\" column which has the information on when the movie was released. \n",
    "\n",
    "What is a bit unforunate is that the information comes in the form of a string.\n",
    "\n",
    "Pandas is ready for that!\n",
    "\n",
    "#### pd.to_datetime()\n",
    "\n",
    "The pd.to_datetime() function turns strings that meet a certain criteria into Timestamp objects. \n",
    "\n",
    "     pd.to_datetime(\"date_column\")\n",
    "\n",
    "This will output a series containing datetime objects."
   ]
  },
  {
   "cell_type": "code",
   "execution_count": null,
   "id": "adfd4334-a195-4373-a0d4-1e71af6d1656",
   "metadata": {},
   "outputs": [],
   "source": [
    "# Use the pd.to_datetime function to define a new column in the DataFrame called \"date_time\" containing Timestamped objects\n",
    "\n",
    "# your code here\n",
    "df[\"date_time\"] = pd.to_datetime(df[\"date_x\"])"
   ]
  },
  {
   "cell_type": "markdown",
   "id": "1cd579a0-06df-405d-9445-be70323f4425",
   "metadata": {},
   "source": [
    "Lets go one step further and make seperate columns for the year and month!"
   ]
  },
  {
   "cell_type": "code",
   "execution_count": null,
   "id": "0b227a54-3e5c-4e80-8560-1437d99c9754",
   "metadata": {},
   "outputs": [],
   "source": [
    "# Define lists to store values\n",
    "year = []\n",
    "month = []\n",
    "\n",
    "# loop through Timestamp data\n",
    "for date in df[\"date_time\"]:\n",
    "    # Seperate year and month attributes and store appropriatly\n",
    "    year.append(date.year)\n",
    "    month.append(date.month)\n",
    "\n",
    "# create new columns in df \n",
    "df[\"year\"] = year\n",
    "df[\"month\"] = month"
   ]
  },
  {
   "cell_type": "markdown",
   "id": "1e6405fe-fce6-42d0-a3f7-fe8c6be4bad9",
   "metadata": {},
   "source": [
    "#### Lets use the dates! \n",
    "\n",
    "Can you tell me the mean budget for movies in 2022 and 2023.\n",
    "\n",
    "Hint: \n",
    "Remember that the condition for equal is =="
   ]
  },
  {
   "cell_type": "code",
   "execution_count": null,
   "id": "25e2a6bd-a52d-49eb-8916-fe59b6b8b3b9",
   "metadata": {},
   "outputs": [],
   "source": [
    "# Mean budget for 2022 and 2023\n",
    "\n",
    "# your code here\n",
    "mask = df[\"year\"] == 2023\n",
    "avg_budget_23 = df[\"budget_m\"][mask].mean()\n",
    "\n",
    "mask = df[\"year\"] == 2022\n",
    "avg_budget_22 = df[\"budget_m\"][mask].mean()\n",
    "\n",
    "print(\"Average film budget in 2022: \", avg_budget_22)\n",
    "print(\"Average film budget in 2023: \", avg_budget_23)"
   ]
  },
  {
   "cell_type": "markdown",
   "id": "718b13f4-f2e5-4e3c-813a-30fa459c8fc8",
   "metadata": {},
   "source": [
    "#### To many masks\n",
    "\n",
    "Wow, over a 40% increase!! Interesting, the avg film really got more expensive.\n",
    "\n",
    "I want to know these states for every year of data we have available!\n",
    "\n",
    "But this is too slow, there must be a better way to run these queries and calculations. \n",
    "\n",
    "#### Groupby\n",
    "\n",
    "groupby() is that exact method.\n",
    "\n",
    "Here is how it works. \n",
    "\n",
    "    We create what is called a groupby object by running the groupby method on a DataFrame and passing a column_name as the argument:\n",
    "        df.groupby(\"year\")\n",
    "\n",
    "This is almost like a DataFrame where the new indecies are the **unique values** of the column_name argument passed to the method.\n",
    "\n",
    "So note: this will only really work well with somewhat categorical data.\n",
    "\n",
    "    Next we run aggregation methods or agg() on this groupby object.\n",
    "        df.groupby(\"year\").agg('mean')\n",
    "\n",
    "    We can specify which columns we want to work on the same way we would in a DataFrame object:\n",
    "        df.groupby(\"year\")[\"budget_m\"].agg('mean')\n",
    "\n",
    "    We can also run multiple aggregation functions at once and have those be the new column names!\n",
    "    We do this by passing multiple arguments to agg() in the form of a list:\n",
    "        df.groupby(\"year\")[\"budget_m\"].agg(['sum','count','mean'])\n",
    "\n",
    "If a single column is not specified and multiple aggregation methods are used we will get a DataFrame which has a heirarchical index structure. This is not the worst thing but we will avoid it for now. "
   ]
  },
  {
   "cell_type": "code",
   "execution_count": null,
   "id": "8bab8341-c284-411c-9c00-bb1353a3f18f",
   "metadata": {},
   "outputs": [],
   "source": [
    "# Run the command listed above where we group the data by the year of their release date\n",
    "\n",
    "# name this new dataframe budget_by_year\n",
    "\n",
    "# your code here\n",
    "budget_by_year = df.groupby(\"year\")[\"budget_m\"].agg(['sum','count','mean','std'])"
   ]
  },
  {
   "cell_type": "markdown",
   "id": "2e23d9db-bd5c-43e4-8176-211e2affd6a7",
   "metadata": {},
   "source": [
    "#### Making groupby your friend\n",
    "\n",
    "Groupby is a powerful function which at times can be a bit confusing. \n",
    "\n",
    "I really recommend using your own words to describe what the function is doing.\n",
    "\n",
    "Please! Think of another question which would be best answered by groupby and make the plot. \n",
    "\n",
    "Believe me, it is worth it to play with this function to really have it stick. \n",
    "\n",
    "#### apply\n",
    "\n",
    "For some inspiration run the cell below which creates a column called grade which uses the score to create an +A to F grade category.\n",
    "\n",
    "We can use the apply method to run a function on all values in the series:\n",
    "    \n",
    "    df.[column_name].apply(function_name)"
   ]
  },
  {
   "cell_type": "code",
   "execution_count": null,
   "id": "4fb0e70b-cd3d-4a6d-92c8-cb6811ee8c20",
   "metadata": {},
   "outputs": [],
   "source": [
    "# Function to assign grades based on score\n",
    "def assign_grade(score):\n",
    "    if score >= 97:\n",
    "        return '+A'\n",
    "    elif score >= 93:\n",
    "        return 'A'\n",
    "    elif score >= 90:\n",
    "        return '-A'\n",
    "    elif score >= 87:\n",
    "        return '+B'\n",
    "    elif score >= 83:\n",
    "        return 'B'\n",
    "    elif score >= 80:\n",
    "        return '-B'\n",
    "    elif score >= 77:\n",
    "        return '+C'\n",
    "    elif score >= 73:\n",
    "        return 'C'\n",
    "    elif score >= 70:\n",
    "        return '-C'\n",
    "    elif score >= 67:\n",
    "        return '+D'\n",
    "    elif score >= 63:\n",
    "        return 'D'\n",
    "    elif score >= 60:\n",
    "        return '-D'\n",
    "    else:\n",
    "        return 'F'"
   ]
  },
  {
   "cell_type": "code",
   "execution_count": null,
   "id": "502f538e-0727-43c4-bbec-70f6e02da505",
   "metadata": {},
   "outputs": [],
   "source": [
    "# Use the apply function on the score column to create a new grade column\n",
    "df[\"grades\"] = df[\"score\"].apply(assign_grade)"
   ]
  },
  {
   "cell_type": "code",
   "execution_count": null,
   "id": "517ea46b-8ea6-4aa1-8079-07c1d93d7bdd",
   "metadata": {},
   "outputs": [],
   "source": [
    "# ProTip! \n",
    "\n",
    "# You can use lambda function within apply - lets use that to show a more elegant method to replace that nasty for-loop we used on the dates\n",
    "\n",
    "# Lambda are small annonymous functions. They work as: lambda input : output. Apply will funnel in all of the dates as input.\n",
    "df[\"year\"] = df[\"date_time\"].apply(lambda x : x.year)\n",
    "df[\"month\"] = df[\"date_time\"].apply(lambda x : x.month)\n",
    "\n",
    "# This was rushed so don't worry if you want to leave it for now."
   ]
  },
  {
   "cell_type": "code",
   "execution_count": null,
   "id": "7c86d5fe-9eea-48d4-8d8f-ba5cbb6a76ba",
   "metadata": {},
   "outputs": [],
   "source": [
    "# Here is some code to make a new genre column which is a bit easier to work with\n",
    "def genre_to_list(genre):\n",
    "    if type(genre) != str:\n",
    "        return \"-\"\n",
    "    return genre.replace(',\\xa0' , ' ').split()\n",
    "\n",
    "df[\"genre_list\"] = df[\"genre\"].apply(genre_to_list)"
   ]
  },
  {
   "cell_type": "code",
   "execution_count": null,
   "id": "5c8c6800-eeda-4f75-ac62-b227f391cf6c",
   "metadata": {},
   "outputs": [],
   "source": [
    "# Make you're own groupby object - and sorry that the genre column is difficult to work with\n",
    "\n",
    "# your code here"
   ]
  },
  {
   "cell_type": "markdown",
   "id": "735c1acb-309d-47af-93bf-f8383339641b",
   "metadata": {},
   "source": [
    "### Plotting\n",
    "\n",
    "Visualizing data is an integral part of data analysis and often leads to insights which would have been difficult to recognize without it. \n",
    "\n",
    "Lucky for us, python has lots of tools to help us in making beautiful graphs, figures and plots."
   ]
  },
  {
   "cell_type": "code",
   "execution_count": null,
   "id": "f91e9fcf-00d8-46c8-9879-3ab6924073ed",
   "metadata": {},
   "outputs": [],
   "source": [
    "# Taking the index of the groupby DataFrame will give us the x variable\n",
    "x = budget_by_year.index\n",
    "x"
   ]
  },
  {
   "cell_type": "code",
   "execution_count": null,
   "id": "0e0c13a1-06cf-4f34-8e8e-b2730159dfc4",
   "metadata": {},
   "outputs": [],
   "source": [
    "# Plotting script for line plot\n",
    "\n",
    "def plot_y_by_x(x, y, std, x_label=\"year\", y_label=\"mean budget\"):\n",
    "    # Set the style of the plot\n",
    "    sns.set(style=\"whitegrid\")\n",
    "\n",
    "    # Create the plot\n",
    "    plt.figure(figsize=(12, 6))\n",
    "\n",
    "    # Plot mean budget\n",
    "    sns.lineplot(x=x, y=y, marker='o', label=y_label, color='b')\n",
    "\n",
    "    # Fill the area between mean_budget ± std_budget\n",
    "    if std:\n",
    "        plt.fill_between(x,\n",
    "                 y - std,\n",
    "                 y + std,\n",
    "                 color='b', alpha=0.2, label='Std Dev')\n",
    "\n",
    "    # Customize the plot\n",
    "    plt.title(f'{y_label} by {x_label}')\n",
    "    plt.xlabel(x_label)\n",
    "    plt.ylabel(y_label)\n",
    "    plt.legend()\n",
    "\n",
    "    # Display the plot\n",
    "    plt.show()"
   ]
  },
  {
   "cell_type": "code",
   "execution_count": null,
   "id": "893d6eb6-50ae-4d38-a4dc-bce5a683e550",
   "metadata": {},
   "outputs": [],
   "source": [
    "# Lets first plot the average price of a movie by year. We can also include the standard deviarion \n",
    "y = budget_by_year[\"mean\"]\n",
    "std = budget_by_year[\"std\"]\n",
    "plot_y_by_x(x, y, std)"
   ]
  },
  {
   "cell_type": "code",
   "execution_count": null,
   "id": "e39d2f82-fb88-4448-8a9e-7a8b51ba341d",
   "metadata": {},
   "outputs": [],
   "source": [
    "y = budget_by_year[\"sum\"]\n",
    "plot_y_by_x(x, y, 0, y_label=\"sum budget\")"
   ]
  },
  {
   "cell_type": "code",
   "execution_count": null,
   "id": "7775099b-8f9b-4af2-b8af-55e931089c77",
   "metadata": {},
   "outputs": [],
   "source": [
    "# Can you use the plotting script to plot the number of films released per year\n",
    "\n",
    "# your code here\n",
    "y = budget_by_year[\"count\"]\n",
    "plot_y_by_x(x,y,0,y_label=\"count\")"
   ]
  },
  {
   "cell_type": "markdown",
   "id": "380b4488-8f3a-48e8-bf80-8fc59c89e450",
   "metadata": {},
   "source": [
    "Woah - looks a lot like the plot of the total money spent!\n",
    "\n",
    "Well, that makes sense given the average cost per film is pretty constant over the years."
   ]
  },
  {
   "cell_type": "markdown",
   "id": "2461e787-8a01-4ecf-8b44-f022983f7290",
   "metadata": {},
   "source": [
    "#### Other alternatives to masks\n",
    "Sometimes you want to make queary on using multiple conditions.\n",
    "\n",
    "This can be done using masks using the '&' symbol:\n",
    "\n",
    "    mask = (condition_1) & (condition_2)\n",
    "\n"
   ]
  }
 ],
 "metadata": {
  "kernelspec": {
   "display_name": "Python 3 (ipykernel)",
   "language": "python",
   "name": "python3"
  },
  "language_info": {
   "codemirror_mode": {
    "name": "ipython",
    "version": 3
   },
   "file_extension": ".py",
   "mimetype": "text/x-python",
   "name": "python",
   "nbconvert_exporter": "python",
   "pygments_lexer": "ipython3",
   "version": "3.9.18"
  }
 },
 "nbformat": 4,
 "nbformat_minor": 5
}
